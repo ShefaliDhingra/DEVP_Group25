{
 "cells": [
  {
   "cell_type": "markdown",
   "id": "874b944b",
   "metadata": {},
   "source": [
    "# TRADE ANALYSIS (Data Exploration with Python using Pandas & Numpy Libraries)\n",
    "---"
   ]
  },
  {
   "cell_type": "markdown",
   "id": "6dee3104",
   "metadata": {},
   "source": [
    "## Project Contents:\n",
    "\n",
    "1. Project Information\n",
    "2. Description of Data\n",
    "3. Data Sampling\n",
    "4. Project Objectives\n",
    "5. Data Analysis\n",
    "6. Observations / Findings\n",
    "7. Managerial Insights / Recommendations\n",
    "---"
   ]
  },
  {
   "cell_type": "markdown",
   "id": "ad643f64",
   "metadata": {},
   "source": [
    "## 1. Project Information\n",
    "* Title: Data Exploration with Python using Pandas & Numpy Libraries\n",
    "* Students : **Shefali Dhingra (055043) , Mohit Agarwal (055024)**\n",
    "* Group Number: 25\n",
    "\n",
    "---"
   ]
  },
  {
   "cell_type": "markdown",
   "id": "6d9a53fc",
   "metadata": {},
   "source": [
    "## 2. Description of Data\n",
    "\n",
    "- Data Source: [Dataset link](https://www.kaggle.com/datasets/chakilamvishwas/imports-exports-15000)"
   ]
  },
  {
   "cell_type": "markdown",
   "id": "ad87475c",
   "metadata": {},
   "source": [
    "### Data Columns Description:\n",
    "\n",
    "1. Transaction_ID: Unique identifier for each trade transaction.\n",
    "2. Country: Country of origin or destination for the trade.\n",
    "3. Product: Product being traded.\n",
    "4. Import_Export: Indicates whether the transaction is an import or export.\n",
    "5. Quantity: Amount of the product traded.\n",
    "6. Value: Monetary value of the product in USD.\n",
    "7. Date: Date of the transaction.\n",
    "8. Category: Category of the product (e.g., Electronics, Clothing, Machinery).\n",
    "9. Port: Port of entry or departure.\n",
    "10. Customs_Code: Customs or HS code for product classification.\n",
    "11. Weight: Weight of the product in kilograms.\n",
    "12. Shipping_Method: Method used for shipping (e.g., Air, Sea, Land).\n",
    "13. Supplier: Name of the supplier or manufacturer.\n",
    "14. Customer: Name of the customer or recipient.\n",
    "15. Invoice_Number: Unique invoice number for the transaction.\n",
    "16. Payment_Terms: Terms of payment (e.g., Net 30, Net 60, Cash on Delivery)."
   ]
  },
  {
   "cell_type": "markdown",
   "id": "1ee00fb5",
   "metadata": {},
   "source": [
    "Data Type: Since the dataset contains multiple entities (countries) and records data over time, this is an example of **Panel Data** (also called longitudinal data)"
   ]
  },
  {
   "cell_type": "code",
   "execution_count": 78,
   "id": "4c39185c-d9a6-45a5-8cd1-216eeb1d0a17",
   "metadata": {},
   "outputs": [],
   "source": [
    "# Import Relevant Python Libraries\n",
    "\n",
    "import pandas as pd\n",
    "import numpy as np\n",
    "import scipy.stats as stats"
   ]
  },
  {
   "cell_type": "code",
   "execution_count": 79,
   "id": "972920c5-14c4-46dd-b7db-aaae54cfa8ad",
   "metadata": {},
   "outputs": [],
   "source": [
    "# Load the Test Data\n",
    "\n",
    "my_df = pd.read_csv(\"Imports_Exports_Dataset.csv\",index_col=\"Transaction_ID\")"
   ]
  },
  {
   "cell_type": "code",
   "execution_count": 80,
   "id": "a22a5c30-8f8b-4e64-a996-26349461515c",
   "metadata": {},
   "outputs": [
    {
     "name": "stdout",
     "output_type": "stream",
     "text": [
      "The dimensions of the data is:  (15000, 15)\n"
     ]
    }
   ],
   "source": [
    "# Data Dimensions\n",
    "print(\"The dimensions of the data is: \",my_df.shape)"
   ]
  },
  {
   "cell_type": "code",
   "execution_count": 81,
   "id": "8e8b066a-e9b9-4d3c-8728-cadc54135271",
   "metadata": {
    "scrolled": true
   },
   "outputs": [
    {
     "name": "stdout",
     "output_type": "stream",
     "text": [
      "<class 'pandas.core.frame.DataFrame'>\n",
      "Index: 15000 entries, e3e70682-c209-4cac-a29f-6fbed82c07cd to 5cc039d0-a052-41fd-bfbb-c9f60c4565ac\n",
      "Data columns (total 15 columns):\n",
      " #   Column           Non-Null Count  Dtype  \n",
      "---  ------           --------------  -----  \n",
      " 0   Country          15000 non-null  object \n",
      " 1   Product          15000 non-null  object \n",
      " 2   Import_Export    15000 non-null  object \n",
      " 3   Quantity         15000 non-null  int64  \n",
      " 4   Value            15000 non-null  float64\n",
      " 5   Date             15000 non-null  object \n",
      " 6   Category         15000 non-null  object \n",
      " 7   Port             15000 non-null  object \n",
      " 8   Customs_Code     15000 non-null  int64  \n",
      " 9   Weight           15000 non-null  float64\n",
      " 10  Shipping_Method  15000 non-null  object \n",
      " 11  Supplier         15000 non-null  object \n",
      " 12  Customer         15000 non-null  object \n",
      " 13  Invoice_Number   15000 non-null  int64  \n",
      " 14  Payment_Terms    15000 non-null  object \n",
      "dtypes: float64(2), int64(3), object(10)\n",
      "memory usage: 1.8+ MB\n"
     ]
    }
   ],
   "source": [
    "# Data Variable Type\n",
    "my_df.info()"
   ]
  },
  {
   "cell_type": "markdown",
   "id": "68ba4477",
   "metadata": {},
   "source": [
    "### Data Variable Type\n",
    "As observed, the dataset contains:\n",
    "1. **All** non-null Variables\n",
    "2. Numbers:\n",
    "    1. Interger Variables: **3**  (*Quantity, Customs_Code, Invoice_Number*)\n",
    "    2. Float (Decimal) Variables: **2**  (*Value, Weight*)\n",
    "3. Text: **9**  (*Country, Product, Import_Export, Category, Port, Shipping_Method, Supplier, Customer, Payment_Terms*)\n",
    "4. DateTime: **1** (*Date*)"
   ]
  },
  {
   "cell_type": "markdown",
   "id": "8fccb9de",
   "metadata": {},
   "source": [
    "## 3. Data Sampling"
   ]
  },
  {
   "cell_type": "code",
   "execution_count": 82,
   "id": "bbf458c9-1216-4214-8836-2ec3babfcd9d",
   "metadata": {},
   "outputs": [],
   "source": [
    "# A Unique Sample of 2001 Records \n",
    "my_sample = pd.DataFrame.sample(my_df, n=2001, random_state=25 ,ignore_index=False)"
   ]
  },
  {
   "cell_type": "code",
   "execution_count": 83,
   "id": "581e7f2f-1d74-4074-b376-ffc93f549f40",
   "metadata": {},
   "outputs": [
    {
     "data": {
      "text/plain": [
       "(2001, 15)"
      ]
     },
     "execution_count": 83,
     "metadata": {},
     "output_type": "execute_result"
    }
   ],
   "source": [
    "# Displaying the Dimensions of Sample Data.\n",
    "my_sample.shape"
   ]
  },
  {
   "cell_type": "code",
   "execution_count": 84,
   "id": "b6a458e0-e52f-4e35-aa53-9b0c53c7b39a",
   "metadata": {},
   "outputs": [
    {
     "data": {
      "text/html": [
       "<div>\n",
       "<style scoped>\n",
       "    .dataframe tbody tr th:only-of-type {\n",
       "        vertical-align: middle;\n",
       "    }\n",
       "\n",
       "    .dataframe tbody tr th {\n",
       "        vertical-align: top;\n",
       "    }\n",
       "\n",
       "    .dataframe thead th {\n",
       "        text-align: right;\n",
       "    }\n",
       "</style>\n",
       "<table border=\"1\" class=\"dataframe\">\n",
       "  <thead>\n",
       "    <tr style=\"text-align: right;\">\n",
       "      <th></th>\n",
       "      <th>Country</th>\n",
       "      <th>Product</th>\n",
       "      <th>Import_Export</th>\n",
       "      <th>Quantity</th>\n",
       "      <th>Value</th>\n",
       "      <th>Date</th>\n",
       "      <th>Category</th>\n",
       "      <th>Port</th>\n",
       "      <th>Customs_Code</th>\n",
       "      <th>Weight</th>\n",
       "      <th>Shipping_Method</th>\n",
       "      <th>Supplier</th>\n",
       "      <th>Customer</th>\n",
       "      <th>Invoice_Number</th>\n",
       "      <th>Payment_Terms</th>\n",
       "    </tr>\n",
       "    <tr>\n",
       "      <th>Transaction_ID</th>\n",
       "      <th></th>\n",
       "      <th></th>\n",
       "      <th></th>\n",
       "      <th></th>\n",
       "      <th></th>\n",
       "      <th></th>\n",
       "      <th></th>\n",
       "      <th></th>\n",
       "      <th></th>\n",
       "      <th></th>\n",
       "      <th></th>\n",
       "      <th></th>\n",
       "      <th></th>\n",
       "      <th></th>\n",
       "      <th></th>\n",
       "    </tr>\n",
       "  </thead>\n",
       "  <tbody>\n",
       "    <tr>\n",
       "      <th>27642695-29f2-4864-8650-232095017a24</th>\n",
       "      <td>United Kingdom</td>\n",
       "      <td>society</td>\n",
       "      <td>Export</td>\n",
       "      <td>7167</td>\n",
       "      <td>1312.05</td>\n",
       "      <td>12-03-2022</td>\n",
       "      <td>Toys</td>\n",
       "      <td>Moodyfurt</td>\n",
       "      <td>586678</td>\n",
       "      <td>1877.87</td>\n",
       "      <td>Land</td>\n",
       "      <td>Anderson-Williams</td>\n",
       "      <td>Earl Green</td>\n",
       "      <td>39542245</td>\n",
       "      <td>Net 30</td>\n",
       "    </tr>\n",
       "    <tr>\n",
       "      <th>ab9190ba-7a15-4be5-a25e-2cd73327f319</th>\n",
       "      <td>Belarus</td>\n",
       "      <td>thus</td>\n",
       "      <td>Import</td>\n",
       "      <td>7856</td>\n",
       "      <td>9404.19</td>\n",
       "      <td>15-06-2022</td>\n",
       "      <td>Electronics</td>\n",
       "      <td>West Michelle</td>\n",
       "      <td>839195</td>\n",
       "      <td>1758.71</td>\n",
       "      <td>Sea</td>\n",
       "      <td>Hansen, Burns and Campos</td>\n",
       "      <td>Jessica Duncan</td>\n",
       "      <td>95480876</td>\n",
       "      <td>Cash on Delivery</td>\n",
       "    </tr>\n",
       "    <tr>\n",
       "      <th>db29c218-2d69-4b77-8f40-b3880cc6985b</th>\n",
       "      <td>Azerbaijan</td>\n",
       "      <td>let</td>\n",
       "      <td>Export</td>\n",
       "      <td>18</td>\n",
       "      <td>7522.87</td>\n",
       "      <td>02-12-2021</td>\n",
       "      <td>Toys</td>\n",
       "      <td>Port Richardside</td>\n",
       "      <td>916350</td>\n",
       "      <td>4232.99</td>\n",
       "      <td>Air</td>\n",
       "      <td>Tucker-Townsend</td>\n",
       "      <td>Eric Ramsey</td>\n",
       "      <td>84265114</td>\n",
       "      <td>Prepaid</td>\n",
       "    </tr>\n",
       "  </tbody>\n",
       "</table>\n",
       "</div>"
      ],
      "text/plain": [
       "                                             Country  Product Import_Export  \\\n",
       "Transaction_ID                                                                \n",
       "27642695-29f2-4864-8650-232095017a24  United Kingdom  society        Export   \n",
       "ab9190ba-7a15-4be5-a25e-2cd73327f319         Belarus     thus        Import   \n",
       "db29c218-2d69-4b77-8f40-b3880cc6985b      Azerbaijan      let        Export   \n",
       "\n",
       "                                      Quantity    Value        Date  \\\n",
       "Transaction_ID                                                        \n",
       "27642695-29f2-4864-8650-232095017a24      7167  1312.05  12-03-2022   \n",
       "ab9190ba-7a15-4be5-a25e-2cd73327f319      7856  9404.19  15-06-2022   \n",
       "db29c218-2d69-4b77-8f40-b3880cc6985b        18  7522.87  02-12-2021   \n",
       "\n",
       "                                         Category              Port  \\\n",
       "Transaction_ID                                                        \n",
       "27642695-29f2-4864-8650-232095017a24         Toys         Moodyfurt   \n",
       "ab9190ba-7a15-4be5-a25e-2cd73327f319  Electronics     West Michelle   \n",
       "db29c218-2d69-4b77-8f40-b3880cc6985b         Toys  Port Richardside   \n",
       "\n",
       "                                      Customs_Code   Weight Shipping_Method  \\\n",
       "Transaction_ID                                                                \n",
       "27642695-29f2-4864-8650-232095017a24        586678  1877.87            Land   \n",
       "ab9190ba-7a15-4be5-a25e-2cd73327f319        839195  1758.71             Sea   \n",
       "db29c218-2d69-4b77-8f40-b3880cc6985b        916350  4232.99             Air   \n",
       "\n",
       "                                                      Supplier  \\\n",
       "Transaction_ID                                                   \n",
       "27642695-29f2-4864-8650-232095017a24         Anderson-Williams   \n",
       "ab9190ba-7a15-4be5-a25e-2cd73327f319  Hansen, Burns and Campos   \n",
       "db29c218-2d69-4b77-8f40-b3880cc6985b           Tucker-Townsend   \n",
       "\n",
       "                                            Customer  Invoice_Number  \\\n",
       "Transaction_ID                                                         \n",
       "27642695-29f2-4864-8650-232095017a24      Earl Green        39542245   \n",
       "ab9190ba-7a15-4be5-a25e-2cd73327f319  Jessica Duncan        95480876   \n",
       "db29c218-2d69-4b77-8f40-b3880cc6985b     Eric Ramsey        84265114   \n",
       "\n",
       "                                         Payment_Terms  \n",
       "Transaction_ID                                          \n",
       "27642695-29f2-4864-8650-232095017a24            Net 30  \n",
       "ab9190ba-7a15-4be5-a25e-2cd73327f319  Cash on Delivery  \n",
       "db29c218-2d69-4b77-8f40-b3880cc6985b           Prepaid  "
      ]
     },
     "execution_count": 84,
     "metadata": {},
     "output_type": "execute_result"
    }
   ],
   "source": [
    "my_sample.head(n=3)"
   ]
  },
  {
   "cell_type": "markdown",
   "id": "e9a632f6",
   "metadata": {},
   "source": [
    "### Data Variable Category"
   ]
  },
  {
   "cell_type": "code",
   "execution_count": 85,
   "id": "255a5370-ba06-4277-a3c2-5b7f066497e7",
   "metadata": {},
   "outputs": [
    {
     "name": "stdout",
     "output_type": "stream",
     "text": [
      "The Variables are: ['Country', 'Product', 'Import_Export', 'Quantity', 'Value', 'Date', 'Category', 'Port', 'Customs_Code', 'Weight', 'Shipping_Method', 'Supplier', 'Customer', 'Invoice_Number', 'Payment_Terms']\n"
     ]
    }
   ],
   "source": [
    "# Columns in the dataset\n",
    "variables=list(my_sample.columns)\n",
    "print(\"The Variables are:\", variables)"
   ]
  },
  {
   "cell_type": "code",
   "execution_count": 94,
   "id": "1815ea8d-933e-40fe-ae10-470221ba8e53",
   "metadata": {},
   "outputs": [],
   "source": [
    "# Bifurcating the Variables into Index, Categorical (Nominal, Ordinal) and Non-Categorical Variables\n",
    "\n",
    "Index_variables=['Transaction_ID']\n",
    "Nominal_Variables=[ 'Country','Product','Import_Export','Category','Port','Shipping_Method','Supplier','Customer']\n",
    "Ordinal_variables=['Payment_Terms']\n",
    "Categorical_variables = Nominal_Variables + Ordinal_variables\n",
    "Non_Categorical_Variables=['Quantity','Value','Customs_Code','Weight','Invoice_Number']"
   ]
  },
  {
   "cell_type": "markdown",
   "id": "cc9e4fd5",
   "metadata": {},
   "source": [
    "---"
   ]
  },
  {
   "cell_type": "markdown",
   "id": "eaefe8bc",
   "metadata": {},
   "source": [
    "## 4. Project Objectives: Trade Analysis\n",
    "\n",
    "The objective of this project is to analyze **international trade patterns by identifying key trends in imports and exports across countries, products, and time periods.**\n",
    "The study aims to uncover **trade flow dynamics, assess the most frequently traded goods, and highlight seasonal or regional variations, providing actionable insights into global trade behaviors.**\n",
    "\n",
    "---"
   ]
  },
  {
   "cell_type": "markdown",
   "id": "ef961f24",
   "metadata": {},
   "source": [
    "## 5. Exploratory Data Analysis"
   ]
  },
  {
   "cell_type": "markdown",
   "id": "c4fe130f",
   "metadata": {},
   "source": [
    "### 5.1. Descriptive Analysis"
   ]
  },
  {
   "cell_type": "markdown",
   "id": "878e2d05",
   "metadata": {},
   "source": [
    "Measures of Central Tendency {Minimum | Maximum | Mean | Median | Mode | Percentile}\n",
    "\n",
    "Measures of Dispersion {Range | Standard Deviation | Skewness | Kurtosis | Correlation}\n",
    "\n",
    "Composite Measure {Coefficient of Variation | Confidence Interval}"
   ]
  },
  {
   "cell_type": "code",
   "execution_count": 95,
   "id": "381e4f77",
   "metadata": {},
   "outputs": [
    {
     "name": "stderr",
     "output_type": "stream",
     "text": [
      "/var/folders/zj/gsj0r51j0x34_vhj3zsb0bgr0000gn/T/ipykernel_40585/830163108.py:19: FutureWarning: The default value of numeric_only in DataFrame.corr is deprecated. In a future version, it will default to False. Select only valid columns or specify the value of numeric_only to silence this warning.\n",
      "  'Correlation': my_sample.corr()[col].drop(col).to_dict()  # Correlation with other variables\n"
     ]
    },
    {
     "ename": "AttributeError",
     "evalue": "'dict' object has no attribute 't'",
     "output_type": "error",
     "traceback": [
      "\u001b[0;31m---------------------------------------------------------------------------\u001b[0m",
      "\u001b[0;31mAttributeError\u001b[0m                            Traceback (most recent call last)",
      "Cell \u001b[0;32mIn[95], line 32\u001b[0m\n\u001b[1;32m     29\u001b[0m     \u001b[38;5;28;01mreturn\u001b[39;00m summary\n\u001b[1;32m     31\u001b[0m \u001b[38;5;66;03m# Example usage\u001b[39;00m\n\u001b[0;32m---> 32\u001b[0m summary_stats \u001b[38;5;241m=\u001b[39m \u001b[43msummarize_selected_numerical\u001b[49m\u001b[43m(\u001b[49m\u001b[43mmy_sample\u001b[49m\u001b[43m,\u001b[49m\u001b[43m \u001b[49m\u001b[43mNon_Categorical_Variables\u001b[49m\u001b[43m)\u001b[49m\n\u001b[1;32m     34\u001b[0m \u001b[38;5;66;03m# Print the summary for each variable\u001b[39;00m\n\u001b[1;32m     35\u001b[0m \u001b[38;5;28;01mfor\u001b[39;00m var, stats \u001b[38;5;129;01min\u001b[39;00m summary_stats\u001b[38;5;241m.\u001b[39mitems():\n",
      "Cell \u001b[0;32mIn[95], line 26\u001b[0m, in \u001b[0;36msummarize_selected_numerical\u001b[0;34m(my_sample, variables)\u001b[0m\n\u001b[1;32m     23\u001b[0m         summary[col][\u001b[38;5;124m'\u001b[39m\u001b[38;5;124mCoefficient of Variation\u001b[39m\u001b[38;5;124m'\u001b[39m] \u001b[38;5;241m=\u001b[39m (my_sample[col]\u001b[38;5;241m.\u001b[39mstd() \u001b[38;5;241m/\u001b[39m my_sample[col]\u001b[38;5;241m.\u001b[39mmean()) \u001b[38;5;241m*\u001b[39m \u001b[38;5;241m100\u001b[39m \u001b[38;5;28;01mif\u001b[39;00m my_sample[col]\u001b[38;5;241m.\u001b[39mmean() \u001b[38;5;241m!=\u001b[39m \u001b[38;5;241m0\u001b[39m \u001b[38;5;28;01melse\u001b[39;00m np\u001b[38;5;241m.\u001b[39mnan\n\u001b[1;32m     25\u001b[0m         \u001b[38;5;66;03m# Confidence Interval (95%)\u001b[39;00m\n\u001b[0;32m---> 26\u001b[0m         ci \u001b[38;5;241m=\u001b[39m \u001b[43mstats\u001b[49m\u001b[38;5;241;43m.\u001b[39;49m\u001b[43mt\u001b[49m\u001b[38;5;241m.\u001b[39minterval(\u001b[38;5;241m0.95\u001b[39m, \u001b[38;5;28mlen\u001b[39m(my_sample[col])\u001b[38;5;241m-\u001b[39m\u001b[38;5;241m1\u001b[39m, loc\u001b[38;5;241m=\u001b[39mmy_sample[col]\u001b[38;5;241m.\u001b[39mmean(), scale\u001b[38;5;241m=\u001b[39mstats\u001b[38;5;241m.\u001b[39msem(my_sample[col]))\n\u001b[1;32m     27\u001b[0m         summary[col][\u001b[38;5;124m'\u001b[39m\u001b[38;5;124m95\u001b[39m\u001b[38;5;124m%\u001b[39m\u001b[38;5;124m Confidence Interval\u001b[39m\u001b[38;5;124m'\u001b[39m] \u001b[38;5;241m=\u001b[39m ci\n\u001b[1;32m     29\u001b[0m \u001b[38;5;28;01mreturn\u001b[39;00m summary\n",
      "\u001b[0;31mAttributeError\u001b[0m: 'dict' object has no attribute 't'"
     ]
    }
   ],
   "source": [
    "def summarize_selected_numerical(my_sample, variables):\n",
    "    summary = {}\n",
    "    \n",
    "    for col in variables:\n",
    "        if col in my_sample.columns:  # Check if the column exists in the DataFrame\n",
    "            summary[col] = {\n",
    "                'Minimum': my_sample[col].min(),\n",
    "                'Maximum': my_sample[col].max(),\n",
    "                'Mean': my_sample[col].mean(),\n",
    "                'Median': my_sample[col].median(),\n",
    "                'Mode': my_sample[col].mode()[0] if not my_sample[col].mode().empty else np.nan,\n",
    "                '25th Percentile': my_sample[col].quantile(0.25),\n",
    "                '50th Percentile (Median)': my_sample[col].median(),\n",
    "                '75th Percentile': my_sample[col].quantile(0.75),\n",
    "                'Range': my_sample[col].max() - my_sample[col].min(),\n",
    "                'Standard Deviation': my_sample[col].std(),\n",
    "                'Skewness': my_sample[col].skew(),\n",
    "                'Kurtosis': my_sample[col].kurtosis(),\n",
    "                'Correlation': my_sample.corr()[col].drop(col).to_dict()  # Correlation with other variables\n",
    "            }\n",
    "\n",
    "            # Coefficient of Variation\n",
    "            summary[col]['Coefficient of Variation'] = (my_sample[col].std() / my_sample[col].mean()) * 100 if my_sample[col].mean() != 0 else np.nan\n",
    "\n",
    "            # Confidence Interval (95%)\n",
    "            ci = stats.t.interval(0.95, len(my_sample[col])-1, loc=my_sample[col].mean(), scale=stats.sem(my_sample[col]))\n",
    "            summary[col]['95% Confidence Interval'] = ci\n",
    "            \n",
    "    return summary\n",
    "\n",
    "# Example usage\n",
    "summary_stats = summarize_selected_numerical(my_sample, Non_Categorical_Variables)\n",
    "\n",
    "# Print the summary for each variable\n",
    "for var, stats in summary_stats.items():\n",
    "    print(f\"Summary for {var}:\")\n",
    "    for stat_name, stat_value in stats.items():\n",
    "        print(f\"{stat_name}: {stat_value}\")\n",
    "    print()"
   ]
  },
  {
   "cell_type": "code",
   "execution_count": 96,
   "id": "67d965e7",
   "metadata": {},
   "outputs": [
    {
     "ename": "KeyError",
     "evalue": "\"['Customs Code'] not in index\"",
     "output_type": "error",
     "traceback": [
      "\u001b[0;31m---------------------------------------------------------------------------\u001b[0m",
      "\u001b[0;31mKeyError\u001b[0m                                  Traceback (most recent call last)",
      "Cell \u001b[0;32mIn[96], line 4\u001b[0m\n\u001b[1;32m      1\u001b[0m non_categorical_variables \u001b[38;5;241m=\u001b[39m [\u001b[38;5;124m'\u001b[39m\u001b[38;5;124mQuantity\u001b[39m\u001b[38;5;124m'\u001b[39m, \u001b[38;5;124m'\u001b[39m\u001b[38;5;124mValue\u001b[39m\u001b[38;5;124m'\u001b[39m, \u001b[38;5;124m'\u001b[39m\u001b[38;5;124mDate\u001b[39m\u001b[38;5;124m'\u001b[39m, \u001b[38;5;124m'\u001b[39m\u001b[38;5;124mCustoms Code\u001b[39m\u001b[38;5;124m'\u001b[39m, \u001b[38;5;124m'\u001b[39m\u001b[38;5;124mWeight\u001b[39m\u001b[38;5;124m'\u001b[39m, \u001b[38;5;124m'\u001b[39m\u001b[38;5;124mInvoice_Number\u001b[39m\u001b[38;5;124m'\u001b[39m]\n\u001b[1;32m      3\u001b[0m \u001b[38;5;66;03m# Select only the relevant non-categorical variables\u001b[39;00m\n\u001b[0;32m----> 4\u001b[0m correlation_data \u001b[38;5;241m=\u001b[39m \u001b[43mmy_sample\u001b[49m\u001b[43m[\u001b[49m\u001b[43mnon_categorical_variables\u001b[49m\u001b[43m]\u001b[49m\n\u001b[1;32m      6\u001b[0m \u001b[38;5;66;03m# Generate the correlation matrix\u001b[39;00m\n\u001b[1;32m      7\u001b[0m correlation_matrix \u001b[38;5;241m=\u001b[39m correlation_data\u001b[38;5;241m.\u001b[39mcorr()\n",
      "File \u001b[0;32m~/anaconda3/lib/python3.10/site-packages/pandas/core/frame.py:3813\u001b[0m, in \u001b[0;36mDataFrame.__getitem__\u001b[0;34m(self, key)\u001b[0m\n\u001b[1;32m   3811\u001b[0m     \u001b[38;5;28;01mif\u001b[39;00m is_iterator(key):\n\u001b[1;32m   3812\u001b[0m         key \u001b[38;5;241m=\u001b[39m \u001b[38;5;28mlist\u001b[39m(key)\n\u001b[0;32m-> 3813\u001b[0m     indexer \u001b[38;5;241m=\u001b[39m \u001b[38;5;28;43mself\u001b[39;49m\u001b[38;5;241;43m.\u001b[39;49m\u001b[43mcolumns\u001b[49m\u001b[38;5;241;43m.\u001b[39;49m\u001b[43m_get_indexer_strict\u001b[49m\u001b[43m(\u001b[49m\u001b[43mkey\u001b[49m\u001b[43m,\u001b[49m\u001b[43m \u001b[49m\u001b[38;5;124;43m\"\u001b[39;49m\u001b[38;5;124;43mcolumns\u001b[39;49m\u001b[38;5;124;43m\"\u001b[39;49m\u001b[43m)\u001b[49m[\u001b[38;5;241m1\u001b[39m]\n\u001b[1;32m   3815\u001b[0m \u001b[38;5;66;03m# take() does not accept boolean indexers\u001b[39;00m\n\u001b[1;32m   3816\u001b[0m \u001b[38;5;28;01mif\u001b[39;00m \u001b[38;5;28mgetattr\u001b[39m(indexer, \u001b[38;5;124m\"\u001b[39m\u001b[38;5;124mdtype\u001b[39m\u001b[38;5;124m\"\u001b[39m, \u001b[38;5;28;01mNone\u001b[39;00m) \u001b[38;5;241m==\u001b[39m \u001b[38;5;28mbool\u001b[39m:\n",
      "File \u001b[0;32m~/anaconda3/lib/python3.10/site-packages/pandas/core/indexes/base.py:6070\u001b[0m, in \u001b[0;36mIndex._get_indexer_strict\u001b[0;34m(self, key, axis_name)\u001b[0m\n\u001b[1;32m   6067\u001b[0m \u001b[38;5;28;01melse\u001b[39;00m:\n\u001b[1;32m   6068\u001b[0m     keyarr, indexer, new_indexer \u001b[38;5;241m=\u001b[39m \u001b[38;5;28mself\u001b[39m\u001b[38;5;241m.\u001b[39m_reindex_non_unique(keyarr)\n\u001b[0;32m-> 6070\u001b[0m \u001b[38;5;28;43mself\u001b[39;49m\u001b[38;5;241;43m.\u001b[39;49m\u001b[43m_raise_if_missing\u001b[49m\u001b[43m(\u001b[49m\u001b[43mkeyarr\u001b[49m\u001b[43m,\u001b[49m\u001b[43m \u001b[49m\u001b[43mindexer\u001b[49m\u001b[43m,\u001b[49m\u001b[43m \u001b[49m\u001b[43maxis_name\u001b[49m\u001b[43m)\u001b[49m\n\u001b[1;32m   6072\u001b[0m keyarr \u001b[38;5;241m=\u001b[39m \u001b[38;5;28mself\u001b[39m\u001b[38;5;241m.\u001b[39mtake(indexer)\n\u001b[1;32m   6073\u001b[0m \u001b[38;5;28;01mif\u001b[39;00m \u001b[38;5;28misinstance\u001b[39m(key, Index):\n\u001b[1;32m   6074\u001b[0m     \u001b[38;5;66;03m# GH 42790 - Preserve name from an Index\u001b[39;00m\n",
      "File \u001b[0;32m~/anaconda3/lib/python3.10/site-packages/pandas/core/indexes/base.py:6133\u001b[0m, in \u001b[0;36mIndex._raise_if_missing\u001b[0;34m(self, key, indexer, axis_name)\u001b[0m\n\u001b[1;32m   6130\u001b[0m     \u001b[38;5;28;01mraise\u001b[39;00m \u001b[38;5;167;01mKeyError\u001b[39;00m(\u001b[38;5;124mf\u001b[39m\u001b[38;5;124m\"\u001b[39m\u001b[38;5;124mNone of [\u001b[39m\u001b[38;5;132;01m{\u001b[39;00mkey\u001b[38;5;132;01m}\u001b[39;00m\u001b[38;5;124m] are in the [\u001b[39m\u001b[38;5;132;01m{\u001b[39;00maxis_name\u001b[38;5;132;01m}\u001b[39;00m\u001b[38;5;124m]\u001b[39m\u001b[38;5;124m\"\u001b[39m)\n\u001b[1;32m   6132\u001b[0m not_found \u001b[38;5;241m=\u001b[39m \u001b[38;5;28mlist\u001b[39m(ensure_index(key)[missing_mask\u001b[38;5;241m.\u001b[39mnonzero()[\u001b[38;5;241m0\u001b[39m]]\u001b[38;5;241m.\u001b[39munique())\n\u001b[0;32m-> 6133\u001b[0m \u001b[38;5;28;01mraise\u001b[39;00m \u001b[38;5;167;01mKeyError\u001b[39;00m(\u001b[38;5;124mf\u001b[39m\u001b[38;5;124m\"\u001b[39m\u001b[38;5;132;01m{\u001b[39;00mnot_found\u001b[38;5;132;01m}\u001b[39;00m\u001b[38;5;124m not in index\u001b[39m\u001b[38;5;124m\"\u001b[39m)\n",
      "\u001b[0;31mKeyError\u001b[0m: \"['Customs Code'] not in index\""
     ]
    }
   ],
   "source": [
    "non_categorical_variables = ['Quantity', 'Value', 'Date', 'Customs Code', 'Weight', 'Invoice_Number']\n",
    "\n",
    "# Select only the relevant non-categorical variables\n",
    "correlation_data = my_sample[non_categorical_variables]\n",
    "\n",
    "# Generate the correlation matrix\n",
    "correlation_matrix = correlation_data.corr()\n",
    "\n",
    "# Print the correlation matrix\n",
    "print(\"Correlation Matrix:\")\n",
    "print(correlation_matrix)"
   ]
  },
  {
   "cell_type": "code",
   "execution_count": null,
   "id": "3c5f0df3",
   "metadata": {},
   "outputs": [],
   "source": []
  },
  {
   "cell_type": "code",
   "execution_count": null,
   "id": "c753c4fd",
   "metadata": {},
   "outputs": [],
   "source": []
  },
  {
   "cell_type": "code",
   "execution_count": null,
   "id": "cdb262e5",
   "metadata": {},
   "outputs": [],
   "source": []
  },
  {
   "cell_type": "code",
   "execution_count": null,
   "id": "09f58dae",
   "metadata": {},
   "outputs": [],
   "source": []
  },
  {
   "cell_type": "markdown",
   "id": "82fa671b",
   "metadata": {},
   "source": [
    "#### 5.1.2. Categorical (Based on Imports_Exports)"
   ]
  },
  {
   "cell_type": "code",
   "execution_count": 43,
   "id": "298df9d8",
   "metadata": {},
   "outputs": [],
   "source": [
    "#Count | Frequency | Minimum | Maximum | Mode | Rank | Correlation"
   ]
  },
  {
   "cell_type": "code",
   "execution_count": 45,
   "id": "ca52dfef",
   "metadata": {},
   "outputs": [
    {
     "data": {
      "text/plain": [
       "Import    1013\n",
       "Export     988\n",
       "Name: Import_Export, dtype: int64"
      ]
     },
     "execution_count": 45,
     "metadata": {},
     "output_type": "execute_result"
    }
   ],
   "source": [
    "#Count of Imports and Exports\n",
    "counts = my_sample['Import_Export'].value_counts()\n",
    "counts"
   ]
  },
  {
   "cell_type": "code",
   "execution_count": 52,
   "id": "9d800669",
   "metadata": {},
   "outputs": [
    {
     "data": {
      "text/plain": [
       "Import    0.51\n",
       "Export    0.49\n",
       "Name: Import_Export, dtype: float64"
      ]
     },
     "execution_count": 52,
     "metadata": {},
     "output_type": "execute_result"
    }
   ],
   "source": [
    "# Frequency of Imports and Exports\n",
    "frequency = counts / counts.sum()\n",
    "round(frequency,2)"
   ]
  },
  {
   "cell_type": "markdown",
   "id": "9228465e",
   "metadata": {},
   "source": [
    "---> Comparable frequencies represent that data is split almost equal, thus minimising the need for data sampling"
   ]
  },
  {
   "cell_type": "markdown",
   "id": "31e2ac34",
   "metadata": {},
   "source": [
    "**Splitting Data into Imports and Exports**"
   ]
  },
  {
   "cell_type": "code",
   "execution_count": 62,
   "id": "8eb0622f",
   "metadata": {},
   "outputs": [],
   "source": [
    "Import_export_grouped = my_sample.groupby('Import_Export')\n",
    "import_sample = Import_export_grouped.get_group('Import')\n",
    "export_sample = Import_export_grouped.get_group('Export')"
   ]
  },
  {
   "cell_type": "markdown",
   "id": "cb91e78b",
   "metadata": {},
   "source": [
    "**Assumption**:\n",
    "- The Value for Imports = The CP for purchase of goods\n",
    "- The Value for Exports = The SP of goods exported to different Countries"
   ]
  },
  {
   "cell_type": "code",
   "execution_count": 64,
   "id": "764a330c",
   "metadata": {},
   "outputs": [
    {
     "data": {
      "text/plain": [
       "((1013, 15), (988, 15))"
      ]
     },
     "execution_count": 64,
     "metadata": {},
     "output_type": "execute_result"
    }
   ],
   "source": [
    "import_sample.shape, export_sample.shape"
   ]
  },
  {
   "cell_type": "code",
   "execution_count": 69,
   "id": "f0f0aeb7",
   "metadata": {},
   "outputs": [
    {
     "name": "stdout",
     "output_type": "stream",
     "text": [
      "Maximum Exports:  Congo\n"
     ]
    }
   ],
   "source": [
    "#Country with Max Exports\n",
    "print(\"Maximum Exports: \",export_sample['Country'].value_counts().idxmax())"
   ]
  },
  {
   "cell_type": "code",
   "execution_count": 70,
   "id": "9696cb0e",
   "metadata": {},
   "outputs": [
    {
     "name": "stdout",
     "output_type": "stream",
     "text": [
      "Minimum Exports:  Iran\n"
     ]
    }
   ],
   "source": [
    "#Country with Min Exports\n",
    "print(\"Minimum Exports: \",export_sample['Country'].value_counts().idxmin())"
   ]
  },
  {
   "cell_type": "code",
   "execution_count": 71,
   "id": "214b0ead",
   "metadata": {},
   "outputs": [
    {
     "name": "stdout",
     "output_type": "stream",
     "text": [
      "Maximum Imports:  Chad\n"
     ]
    }
   ],
   "source": [
    "#Country with Max Imports\n",
    "print(\"Maximum Imports: \",import_sample['Country'].value_counts().idxmax())"
   ]
  },
  {
   "cell_type": "code",
   "execution_count": 72,
   "id": "2e92aba3",
   "metadata": {
    "scrolled": false
   },
   "outputs": [
    {
     "name": "stdout",
     "output_type": "stream",
     "text": [
      "Minimum Imports:  Bouvet Island (Bouvetoya)\n"
     ]
    }
   ],
   "source": [
    "#Country with Min Imports\n",
    "print(\"Minimum Imports: \",import_sample['Country'].value_counts().idxmin())"
   ]
  },
  {
   "cell_type": "code",
   "execution_count": 75,
   "id": "1d93815f",
   "metadata": {},
   "outputs": [
    {
     "data": {
      "text/plain": [
       "Import    1.0\n",
       "Export    2.0\n",
       "Name: Import_Export, dtype: float64"
      ]
     },
     "execution_count": 75,
     "metadata": {},
     "output_type": "execute_result"
    }
   ],
   "source": [
    "counts.rank(ascending=False)"
   ]
  },
  {
   "cell_type": "markdown",
   "id": "dc767352",
   "metadata": {},
   "source": [
    "The no. of Imports in the sample is more than no. of Exports, but sice their frquencies are comparable, they dont have much difference between no. of values"
   ]
  },
  {
   "cell_type": "markdown",
   "id": "4d031580",
   "metadata": {},
   "source": [
    "### 1. Trade Volume Analysis"
   ]
  },
  {
   "cell_type": "code",
   "execution_count": 33,
   "id": "ea576c4c",
   "metadata": {},
   "outputs": [
    {
     "data": {
      "text/html": [
       "<div>\n",
       "<style scoped>\n",
       "    .dataframe tbody tr th:only-of-type {\n",
       "        vertical-align: middle;\n",
       "    }\n",
       "\n",
       "    .dataframe tbody tr th {\n",
       "        vertical-align: top;\n",
       "    }\n",
       "\n",
       "    .dataframe thead th {\n",
       "        text-align: right;\n",
       "    }\n",
       "</style>\n",
       "<table border=\"1\" class=\"dataframe\">\n",
       "  <thead>\n",
       "    <tr style=\"text-align: right;\">\n",
       "      <th></th>\n",
       "      <th>Value</th>\n",
       "    </tr>\n",
       "    <tr>\n",
       "      <th>Import_Export</th>\n",
       "      <th></th>\n",
       "    </tr>\n",
       "  </thead>\n",
       "  <tbody>\n",
       "    <tr>\n",
       "      <th>Export</th>\n",
       "      <td>4930154.32</td>\n",
       "    </tr>\n",
       "    <tr>\n",
       "      <th>Import</th>\n",
       "      <td>5190520.14</td>\n",
       "    </tr>\n",
       "  </tbody>\n",
       "</table>\n",
       "</div>"
      ],
      "text/plain": [
       "                    Value\n",
       "Import_Export            \n",
       "Export         4930154.32\n",
       "Import         5190520.14"
      ]
     },
     "execution_count": 33,
     "metadata": {},
     "output_type": "execute_result"
    }
   ],
   "source": [
    "import_export_comparison = my_sample.groupby('Import_Export')[['Value']].sum()\n",
    "import_export_comparison"
   ]
  },
  {
   "cell_type": "code",
   "execution_count": 35,
   "id": "94b91463",
   "metadata": {},
   "outputs": [
    {
     "data": {
      "text/html": [
       "<div>\n",
       "<style scoped>\n",
       "    .dataframe tbody tr th:only-of-type {\n",
       "        vertical-align: middle;\n",
       "    }\n",
       "\n",
       "    .dataframe tbody tr th {\n",
       "        vertical-align: top;\n",
       "    }\n",
       "\n",
       "    .dataframe thead th {\n",
       "        text-align: right;\n",
       "    }\n",
       "</style>\n",
       "<table border=\"1\" class=\"dataframe\">\n",
       "  <thead>\n",
       "    <tr style=\"text-align: right;\">\n",
       "      <th></th>\n",
       "      <th>Value</th>\n",
       "      <th>Quantity</th>\n",
       "    </tr>\n",
       "    <tr>\n",
       "      <th>Country</th>\n",
       "      <th></th>\n",
       "      <th></th>\n",
       "    </tr>\n",
       "  </thead>\n",
       "  <tbody>\n",
       "    <tr>\n",
       "      <th>Congo</th>\n",
       "      <td>68241.90</td>\n",
       "      <td>80626</td>\n",
       "    </tr>\n",
       "    <tr>\n",
       "      <th>India</th>\n",
       "      <td>67674.91</td>\n",
       "      <td>58344</td>\n",
       "    </tr>\n",
       "    <tr>\n",
       "      <th>Maldives</th>\n",
       "      <td>60956.81</td>\n",
       "      <td>47351</td>\n",
       "    </tr>\n",
       "    <tr>\n",
       "      <th>Czech Republic</th>\n",
       "      <td>48152.10</td>\n",
       "      <td>40243</td>\n",
       "    </tr>\n",
       "    <tr>\n",
       "      <th>Japan</th>\n",
       "      <td>46174.40</td>\n",
       "      <td>49524</td>\n",
       "    </tr>\n",
       "    <tr>\n",
       "      <th>Palestinian Territory</th>\n",
       "      <td>45171.61</td>\n",
       "      <td>26290</td>\n",
       "    </tr>\n",
       "    <tr>\n",
       "      <th>Korea</th>\n",
       "      <td>44717.32</td>\n",
       "      <td>35786</td>\n",
       "    </tr>\n",
       "    <tr>\n",
       "      <th>Russian Federation</th>\n",
       "      <td>44655.91</td>\n",
       "      <td>37109</td>\n",
       "    </tr>\n",
       "    <tr>\n",
       "      <th>Latvia</th>\n",
       "      <td>44170.07</td>\n",
       "      <td>39148</td>\n",
       "    </tr>\n",
       "    <tr>\n",
       "      <th>Taiwan</th>\n",
       "      <td>43787.23</td>\n",
       "      <td>38994</td>\n",
       "    </tr>\n",
       "  </tbody>\n",
       "</table>\n",
       "</div>"
      ],
      "text/plain": [
       "                          Value  Quantity\n",
       "Country                                  \n",
       "Congo                  68241.90     80626\n",
       "India                  67674.91     58344\n",
       "Maldives               60956.81     47351\n",
       "Czech Republic         48152.10     40243\n",
       "Japan                  46174.40     49524\n",
       "Palestinian Territory  45171.61     26290\n",
       "Korea                  44717.32     35786\n",
       "Russian Federation     44655.91     37109\n",
       "Latvia                 44170.07     39148\n",
       "Taiwan                 43787.23     38994"
      ]
     },
     "execution_count": 35,
     "metadata": {},
     "output_type": "execute_result"
    }
   ],
   "source": [
    "#Top 10 Countries with Goods Sold at Maximum Value (Maximum Export Sales Profits)\n",
    "\n",
    "trade_volume_country = export_sample.groupby('Country')[['Value','Quantity']].sum().sort_values(by='Value', ascending=False)\n",
    "trade_volume_country.head(n=10)"
   ]
  },
  {
   "cell_type": "code",
   "execution_count": 36,
   "id": "b48a75df",
   "metadata": {
    "scrolled": false
   },
   "outputs": [
    {
     "data": {
      "text/html": [
       "<div>\n",
       "<style scoped>\n",
       "    .dataframe tbody tr th:only-of-type {\n",
       "        vertical-align: middle;\n",
       "    }\n",
       "\n",
       "    .dataframe tbody tr th {\n",
       "        vertical-align: top;\n",
       "    }\n",
       "\n",
       "    .dataframe thead th {\n",
       "        text-align: right;\n",
       "    }\n",
       "</style>\n",
       "<table border=\"1\" class=\"dataframe\">\n",
       "  <thead>\n",
       "    <tr style=\"text-align: right;\">\n",
       "      <th></th>\n",
       "      <th>Quantity</th>\n",
       "      <th>Value</th>\n",
       "    </tr>\n",
       "    <tr>\n",
       "      <th>Product</th>\n",
       "      <th></th>\n",
       "      <th></th>\n",
       "    </tr>\n",
       "  </thead>\n",
       "  <tbody>\n",
       "    <tr>\n",
       "      <th>onto</th>\n",
       "      <td>33534</td>\n",
       "      <td>31115.68</td>\n",
       "    </tr>\n",
       "    <tr>\n",
       "      <th>now</th>\n",
       "      <td>27952</td>\n",
       "      <td>14980.57</td>\n",
       "    </tr>\n",
       "    <tr>\n",
       "      <th>Mr</th>\n",
       "      <td>27638</td>\n",
       "      <td>30068.69</td>\n",
       "    </tr>\n",
       "    <tr>\n",
       "      <th>beyond</th>\n",
       "      <td>26878</td>\n",
       "      <td>16959.45</td>\n",
       "    </tr>\n",
       "    <tr>\n",
       "      <th>administration</th>\n",
       "      <td>26273</td>\n",
       "      <td>31302.21</td>\n",
       "    </tr>\n",
       "    <tr>\n",
       "      <th>course</th>\n",
       "      <td>25873</td>\n",
       "      <td>16601.72</td>\n",
       "    </tr>\n",
       "    <tr>\n",
       "      <th>organization</th>\n",
       "      <td>25827</td>\n",
       "      <td>11774.46</td>\n",
       "    </tr>\n",
       "    <tr>\n",
       "      <th>bank</th>\n",
       "      <td>24516</td>\n",
       "      <td>29501.23</td>\n",
       "    </tr>\n",
       "    <tr>\n",
       "      <th>guess</th>\n",
       "      <td>24115</td>\n",
       "      <td>17845.80</td>\n",
       "    </tr>\n",
       "    <tr>\n",
       "      <th>street</th>\n",
       "      <td>24094</td>\n",
       "      <td>18830.97</td>\n",
       "    </tr>\n",
       "  </tbody>\n",
       "</table>\n",
       "</div>"
      ],
      "text/plain": [
       "                Quantity     Value\n",
       "Product                           \n",
       "onto               33534  31115.68\n",
       "now                27952  14980.57\n",
       "Mr                 27638  30068.69\n",
       "beyond             26878  16959.45\n",
       "administration     26273  31302.21\n",
       "course             25873  16601.72\n",
       "organization       25827  11774.46\n",
       "bank               24516  29501.23\n",
       "guess              24115  17845.80\n",
       "street             24094  18830.97"
      ]
     },
     "execution_count": 36,
     "metadata": {},
     "output_type": "execute_result"
    }
   ],
   "source": [
    "# Top 10 Products Sold (Exported)\n",
    "\n",
    "Max_exported_prod = export_sample.groupby('Product')[['Quantity', 'Value']].sum().sort_values(by='Quantity', ascending=False)\n",
    "Max_exported_prod.head(n=10)"
   ]
  },
  {
   "cell_type": "code",
   "execution_count": 38,
   "id": "b07c35bc",
   "metadata": {},
   "outputs": [
    {
     "data": {
      "text/html": [
       "<div>\n",
       "<style scoped>\n",
       "    .dataframe tbody tr th:only-of-type {\n",
       "        vertical-align: middle;\n",
       "    }\n",
       "\n",
       "    .dataframe tbody tr th {\n",
       "        vertical-align: top;\n",
       "    }\n",
       "\n",
       "    .dataframe thead th {\n",
       "        text-align: right;\n",
       "    }\n",
       "</style>\n",
       "<table border=\"1\" class=\"dataframe\">\n",
       "  <thead>\n",
       "    <tr style=\"text-align: right;\">\n",
       "      <th></th>\n",
       "      <th>Quantity</th>\n",
       "      <th>Value</th>\n",
       "    </tr>\n",
       "    <tr>\n",
       "      <th>Product</th>\n",
       "      <th></th>\n",
       "      <th></th>\n",
       "    </tr>\n",
       "  </thead>\n",
       "  <tbody>\n",
       "    <tr>\n",
       "      <th>family</th>\n",
       "      <td>29959</td>\n",
       "      <td>20276.20</td>\n",
       "    </tr>\n",
       "    <tr>\n",
       "      <th>without</th>\n",
       "      <td>27487</td>\n",
       "      <td>10518.13</td>\n",
       "    </tr>\n",
       "    <tr>\n",
       "      <th>explain</th>\n",
       "      <td>27430</td>\n",
       "      <td>20546.09</td>\n",
       "    </tr>\n",
       "    <tr>\n",
       "      <th>both</th>\n",
       "      <td>27122</td>\n",
       "      <td>15835.49</td>\n",
       "    </tr>\n",
       "    <tr>\n",
       "      <th>once</th>\n",
       "      <td>27083</td>\n",
       "      <td>18529.74</td>\n",
       "    </tr>\n",
       "    <tr>\n",
       "      <th>she</th>\n",
       "      <td>26764</td>\n",
       "      <td>27372.70</td>\n",
       "    </tr>\n",
       "    <tr>\n",
       "      <th>financial</th>\n",
       "      <td>25584</td>\n",
       "      <td>16113.37</td>\n",
       "    </tr>\n",
       "    <tr>\n",
       "      <th>story</th>\n",
       "      <td>25580</td>\n",
       "      <td>27279.22</td>\n",
       "    </tr>\n",
       "    <tr>\n",
       "      <th>mouth</th>\n",
       "      <td>25211</td>\n",
       "      <td>20995.23</td>\n",
       "    </tr>\n",
       "    <tr>\n",
       "      <th>crime</th>\n",
       "      <td>25072</td>\n",
       "      <td>20236.31</td>\n",
       "    </tr>\n",
       "  </tbody>\n",
       "</table>\n",
       "</div>"
      ],
      "text/plain": [
       "           Quantity     Value\n",
       "Product                      \n",
       "family        29959  20276.20\n",
       "without       27487  10518.13\n",
       "explain       27430  20546.09\n",
       "both          27122  15835.49\n",
       "once          27083  18529.74\n",
       "she           26764  27372.70\n",
       "financial     25584  16113.37\n",
       "story         25580  27279.22\n",
       "mouth         25211  20995.23\n",
       "crime         25072  20236.31"
      ]
     },
     "execution_count": 38,
     "metadata": {},
     "output_type": "execute_result"
    }
   ],
   "source": [
    "# Top 10 Products Purchased (Imported)\n",
    "\n",
    "Max_imported_prod = import_sample.groupby('Product')[['Quantity', 'Value']].sum().sort_values(by='Quantity', ascending=False)\n",
    "Max_imported_prod.head(n=10)"
   ]
  },
  {
   "cell_type": "code",
   "execution_count": 37,
   "id": "cfce8182",
   "metadata": {},
   "outputs": [
    {
     "data": {
      "text/html": [
       "<div>\n",
       "<style scoped>\n",
       "    .dataframe tbody tr th:only-of-type {\n",
       "        vertical-align: middle;\n",
       "    }\n",
       "\n",
       "    .dataframe tbody tr th {\n",
       "        vertical-align: top;\n",
       "    }\n",
       "\n",
       "    .dataframe thead th {\n",
       "        text-align: right;\n",
       "    }\n",
       "</style>\n",
       "<table border=\"1\" class=\"dataframe\">\n",
       "  <thead>\n",
       "    <tr style=\"text-align: right;\">\n",
       "      <th></th>\n",
       "      <th>Quantity</th>\n",
       "      <th>Value</th>\n",
       "    </tr>\n",
       "    <tr>\n",
       "      <th>Product</th>\n",
       "      <th></th>\n",
       "      <th></th>\n",
       "    </tr>\n",
       "  </thead>\n",
       "  <tbody>\n",
       "    <tr>\n",
       "      <th>family</th>\n",
       "      <td>29959</td>\n",
       "      <td>20276.20</td>\n",
       "    </tr>\n",
       "    <tr>\n",
       "      <th>without</th>\n",
       "      <td>27487</td>\n",
       "      <td>10518.13</td>\n",
       "    </tr>\n",
       "    <tr>\n",
       "      <th>explain</th>\n",
       "      <td>27430</td>\n",
       "      <td>20546.09</td>\n",
       "    </tr>\n",
       "    <tr>\n",
       "      <th>both</th>\n",
       "      <td>27122</td>\n",
       "      <td>15835.49</td>\n",
       "    </tr>\n",
       "    <tr>\n",
       "      <th>once</th>\n",
       "      <td>27083</td>\n",
       "      <td>18529.74</td>\n",
       "    </tr>\n",
       "    <tr>\n",
       "      <th>she</th>\n",
       "      <td>26764</td>\n",
       "      <td>27372.70</td>\n",
       "    </tr>\n",
       "    <tr>\n",
       "      <th>financial</th>\n",
       "      <td>25584</td>\n",
       "      <td>16113.37</td>\n",
       "    </tr>\n",
       "    <tr>\n",
       "      <th>story</th>\n",
       "      <td>25580</td>\n",
       "      <td>27279.22</td>\n",
       "    </tr>\n",
       "    <tr>\n",
       "      <th>mouth</th>\n",
       "      <td>25211</td>\n",
       "      <td>20995.23</td>\n",
       "    </tr>\n",
       "    <tr>\n",
       "      <th>crime</th>\n",
       "      <td>25072</td>\n",
       "      <td>20236.31</td>\n",
       "    </tr>\n",
       "  </tbody>\n",
       "</table>\n",
       "</div>"
      ],
      "text/plain": [
       "           Quantity     Value\n",
       "Product                      \n",
       "family        29959  20276.20\n",
       "without       27487  10518.13\n",
       "explain       27430  20546.09\n",
       "both          27122  15835.49\n",
       "once          27083  18529.74\n",
       "she           26764  27372.70\n",
       "financial     25584  16113.37\n",
       "story         25580  27279.22\n",
       "mouth         25211  20995.23\n",
       "crime         25072  20236.31"
      ]
     },
     "execution_count": 37,
     "metadata": {},
     "output_type": "execute_result"
    }
   ],
   "source": [
    "# Top 10 Products Produced\n",
    "\n",
    "Max_imported_prod = import_sample.groupby('Product')[['Quantity', 'Value']].sum().sort_values(by='Quantity', ascending=False)\n",
    "Max_imported_prod.head(n=10)"
   ]
  },
  {
   "cell_type": "markdown",
   "id": "e7cfbb09",
   "metadata": {},
   "source": [
    "### 2. Temporal Trends (Yearly/Monthly Trends)"
   ]
  },
  {
   "cell_type": "code",
   "execution_count": 64,
   "id": "0e616313",
   "metadata": {
    "scrolled": true
   },
   "outputs": [
    {
     "data": {
      "text/html": [
       "<div>\n",
       "<style scoped>\n",
       "    .dataframe tbody tr th:only-of-type {\n",
       "        vertical-align: middle;\n",
       "    }\n",
       "\n",
       "    .dataframe tbody tr th {\n",
       "        vertical-align: top;\n",
       "    }\n",
       "\n",
       "    .dataframe thead th {\n",
       "        text-align: right;\n",
       "    }\n",
       "</style>\n",
       "<table border=\"1\" class=\"dataframe\">\n",
       "  <thead>\n",
       "    <tr style=\"text-align: right;\">\n",
       "      <th></th>\n",
       "      <th>Quantity</th>\n",
       "      <th>Value</th>\n",
       "    </tr>\n",
       "    <tr>\n",
       "      <th>Year</th>\n",
       "      <th></th>\n",
       "      <th></th>\n",
       "    </tr>\n",
       "  </thead>\n",
       "  <tbody>\n",
       "    <tr>\n",
       "      <th>2019</th>\n",
       "      <td>259726</td>\n",
       "      <td>274186.93</td>\n",
       "    </tr>\n",
       "    <tr>\n",
       "      <th>2020</th>\n",
       "      <td>1055812</td>\n",
       "      <td>1022481.92</td>\n",
       "    </tr>\n",
       "    <tr>\n",
       "      <th>2021</th>\n",
       "      <td>994907</td>\n",
       "      <td>1075873.39</td>\n",
       "    </tr>\n",
       "    <tr>\n",
       "      <th>2022</th>\n",
       "      <td>976886</td>\n",
       "      <td>992998.54</td>\n",
       "    </tr>\n",
       "    <tr>\n",
       "      <th>2023</th>\n",
       "      <td>1069667</td>\n",
       "      <td>1000670.51</td>\n",
       "    </tr>\n",
       "    <tr>\n",
       "      <th>2024</th>\n",
       "      <td>618516</td>\n",
       "      <td>563943.03</td>\n",
       "    </tr>\n",
       "  </tbody>\n",
       "</table>\n",
       "</div>"
      ],
      "text/plain": [
       "      Quantity       Value\n",
       "Year                      \n",
       "2019    259726   274186.93\n",
       "2020   1055812  1022481.92\n",
       "2021    994907  1075873.39\n",
       "2022    976886   992998.54\n",
       "2023   1069667  1000670.51\n",
       "2024    618516   563943.03"
      ]
     },
     "execution_count": 64,
     "metadata": {},
     "output_type": "execute_result"
    }
   ],
   "source": [
    "# Yearly Exports Volume\n",
    "\n",
    "#errors = 'coerce' helps handle invalid date errors by replacing the value with NaT (Not a Time)\n",
    "export_sample = export_sample.copy()\n",
    "export_sample['Date'] = pd.to_datetime(export_sample['Date'], dayfirst=True, errors='coerce')\n",
    "export_sample.loc[:, 'Year'] = export_sample['Date'].dt.year\n",
    "yearly_trends = export_sample.groupby('Year')[['Quantity', 'Value']].sum()\n",
    "yearly_trends"
   ]
  },
  {
   "cell_type": "code",
   "execution_count": 65,
   "id": "5d44b438",
   "metadata": {},
   "outputs": [
    {
     "data": {
      "text/html": [
       "<div>\n",
       "<style scoped>\n",
       "    .dataframe tbody tr th:only-of-type {\n",
       "        vertical-align: middle;\n",
       "    }\n",
       "\n",
       "    .dataframe tbody tr th {\n",
       "        vertical-align: top;\n",
       "    }\n",
       "\n",
       "    .dataframe thead th {\n",
       "        text-align: right;\n",
       "    }\n",
       "</style>\n",
       "<table border=\"1\" class=\"dataframe\">\n",
       "  <thead>\n",
       "    <tr style=\"text-align: right;\">\n",
       "      <th></th>\n",
       "      <th>Quantity</th>\n",
       "      <th>Value</th>\n",
       "    </tr>\n",
       "    <tr>\n",
       "      <th>Year</th>\n",
       "      <th></th>\n",
       "      <th></th>\n",
       "    </tr>\n",
       "  </thead>\n",
       "  <tbody>\n",
       "    <tr>\n",
       "      <th>2019</th>\n",
       "      <td>300080</td>\n",
       "      <td>306912.19</td>\n",
       "    </tr>\n",
       "    <tr>\n",
       "      <th>2020</th>\n",
       "      <td>998288</td>\n",
       "      <td>1020054.22</td>\n",
       "    </tr>\n",
       "    <tr>\n",
       "      <th>2021</th>\n",
       "      <td>1067542</td>\n",
       "      <td>1050740.47</td>\n",
       "    </tr>\n",
       "    <tr>\n",
       "      <th>2022</th>\n",
       "      <td>1154051</td>\n",
       "      <td>1140692.18</td>\n",
       "    </tr>\n",
       "    <tr>\n",
       "      <th>2023</th>\n",
       "      <td>917375</td>\n",
       "      <td>985005.41</td>\n",
       "    </tr>\n",
       "    <tr>\n",
       "      <th>2024</th>\n",
       "      <td>704712</td>\n",
       "      <td>687115.67</td>\n",
       "    </tr>\n",
       "  </tbody>\n",
       "</table>\n",
       "</div>"
      ],
      "text/plain": [
       "      Quantity       Value\n",
       "Year                      \n",
       "2019    300080   306912.19\n",
       "2020    998288  1020054.22\n",
       "2021   1067542  1050740.47\n",
       "2022   1154051  1140692.18\n",
       "2023    917375   985005.41\n",
       "2024    704712   687115.67"
      ]
     },
     "execution_count": 65,
     "metadata": {},
     "output_type": "execute_result"
    }
   ],
   "source": [
    "# Yearly Imports Volume\n",
    "\n",
    "#errors = 'coerce' helps handle invalid date errors by replacing the value with NaT (Not a Time)\n",
    "import_sample = import_sample.copy()\n",
    "import_sample['Date'] = pd.to_datetime(import_sample['Date'], dayfirst=True, errors='coerce')\n",
    "import_sample.loc[:, 'Year'] = import_sample['Date'].dt.year\n",
    "yearly_trends_imports = import_sample.groupby('Year')[['Quantity', 'Value']].sum()\n",
    "yearly_trends_imports"
   ]
  },
  {
   "cell_type": "code",
   "execution_count": 44,
   "id": "a9b555dd",
   "metadata": {},
   "outputs": [
    {
     "data": {
      "text/html": [
       "<div>\n",
       "<style scoped>\n",
       "    .dataframe tbody tr th:only-of-type {\n",
       "        vertical-align: middle;\n",
       "    }\n",
       "\n",
       "    .dataframe tbody tr th {\n",
       "        vertical-align: top;\n",
       "    }\n",
       "\n",
       "    .dataframe thead th {\n",
       "        text-align: right;\n",
       "    }\n",
       "</style>\n",
       "<table border=\"1\" class=\"dataframe\">\n",
       "  <thead>\n",
       "    <tr style=\"text-align: right;\">\n",
       "      <th></th>\n",
       "      <th>Quantity</th>\n",
       "      <th>Value</th>\n",
       "    </tr>\n",
       "    <tr>\n",
       "      <th>Month</th>\n",
       "      <th></th>\n",
       "      <th></th>\n",
       "    </tr>\n",
       "  </thead>\n",
       "  <tbody>\n",
       "    <tr>\n",
       "      <th>2019-09</th>\n",
       "      <td>136440</td>\n",
       "      <td>122634.62</td>\n",
       "    </tr>\n",
       "    <tr>\n",
       "      <th>2019-10</th>\n",
       "      <td>117659</td>\n",
       "      <td>114943.42</td>\n",
       "    </tr>\n",
       "    <tr>\n",
       "      <th>2019-11</th>\n",
       "      <td>136893</td>\n",
       "      <td>159237.45</td>\n",
       "    </tr>\n",
       "    <tr>\n",
       "      <th>2019-12</th>\n",
       "      <td>168814</td>\n",
       "      <td>184283.63</td>\n",
       "    </tr>\n",
       "    <tr>\n",
       "      <th>2020-01</th>\n",
       "      <td>172685</td>\n",
       "      <td>188745.46</td>\n",
       "    </tr>\n",
       "    <tr>\n",
       "      <th>...</th>\n",
       "      <td>...</td>\n",
       "      <td>...</td>\n",
       "    </tr>\n",
       "    <tr>\n",
       "      <th>2024-05</th>\n",
       "      <td>203192</td>\n",
       "      <td>178762.27</td>\n",
       "    </tr>\n",
       "    <tr>\n",
       "      <th>2024-06</th>\n",
       "      <td>123382</td>\n",
       "      <td>114587.00</td>\n",
       "    </tr>\n",
       "    <tr>\n",
       "      <th>2024-07</th>\n",
       "      <td>160421</td>\n",
       "      <td>175986.44</td>\n",
       "    </tr>\n",
       "    <tr>\n",
       "      <th>2024-08</th>\n",
       "      <td>172226</td>\n",
       "      <td>161824.32</td>\n",
       "    </tr>\n",
       "    <tr>\n",
       "      <th>2024-09</th>\n",
       "      <td>37216</td>\n",
       "      <td>31935.94</td>\n",
       "    </tr>\n",
       "  </tbody>\n",
       "</table>\n",
       "<p>61 rows × 2 columns</p>\n",
       "</div>"
      ],
      "text/plain": [
       "         Quantity      Value\n",
       "Month                       \n",
       "2019-09    136440  122634.62\n",
       "2019-10    117659  114943.42\n",
       "2019-11    136893  159237.45\n",
       "2019-12    168814  184283.63\n",
       "2020-01    172685  188745.46\n",
       "...           ...        ...\n",
       "2024-05    203192  178762.27\n",
       "2024-06    123382  114587.00\n",
       "2024-07    160421  175986.44\n",
       "2024-08    172226  161824.32\n",
       "2024-09     37216   31935.94\n",
       "\n",
       "[61 rows x 2 columns]"
      ]
     },
     "execution_count": 44,
     "metadata": {},
     "output_type": "execute_result"
    }
   ],
   "source": [
    "# Monthly Trade Volume\n",
    "\n",
    "my_sample['Month'] = my_sample['Date'].dt.to_period('M')\n",
    "monthly_trends = my_sample.groupby('Month')[['Quantity', 'Value']].sum()\n",
    "monthly_trends"
   ]
  },
  {
   "cell_type": "markdown",
   "id": "e1ed812d",
   "metadata": {},
   "source": [
    "### 3. Geographical Trade Patterns"
   ]
  },
  {
   "cell_type": "code",
   "execution_count": null,
   "id": "bad137e6",
   "metadata": {},
   "outputs": [],
   "source": [
    "# Top Importing/Exporting Countries\n",
    "top_countries = my_sample.groupby('Country')[['Quantity', 'Value']].sum().sort_values(by='Value', ascending=False).head(10)\n",
    "top_countries"
   ]
  },
  {
   "cell_type": "markdown",
   "id": "8b2fa833",
   "metadata": {},
   "source": [
    "### 4. Product and Category-Level Analysis"
   ]
  },
  {
   "cell_type": "code",
   "execution_count": null,
   "id": "0a2e6266",
   "metadata": {},
   "outputs": [],
   "source": [
    "# Top-Traded Products\n",
    "top_products = my_sample.groupby('Product')[['Quantity', 'Value']].sum().sort_values(by='Value', ascending=False).head(10)\n",
    "top_products"
   ]
  },
  {
   "cell_type": "markdown",
   "id": "49cb55ae",
   "metadata": {},
   "source": [
    "### 5. Supplier and Customer Behavior"
   ]
  },
  {
   "cell_type": "code",
   "execution_count": null,
   "id": "941c377c",
   "metadata": {},
   "outputs": [],
   "source": [
    "# Top Suppliers by Trade Value\n",
    "top_suppliers = my_sample.groupby('Supplier')[['Quantity', 'Value']].sum().sort_values(by='Value', ascending=False).head(10)\n",
    "top_suppliers"
   ]
  },
  {
   "cell_type": "code",
   "execution_count": null,
   "id": "9eff727b",
   "metadata": {},
   "outputs": [],
   "source": [
    "# Top Customers by Trade Value\n",
    "top_customers = my_sample.groupby('Customer')[['Quantity', 'Value']].sum().sort_values(by='Value', ascending=False).head(10)\n",
    "top_customers"
   ]
  },
  {
   "cell_type": "markdown",
   "id": "c487cd0d",
   "metadata": {},
   "source": [
    "### 6. Trade Performance (Evaluated based on Country)"
   ]
  },
  {
   "cell_type": "code",
   "execution_count": null,
   "id": "4a251737",
   "metadata": {
    "scrolled": true
   },
   "outputs": [],
   "source": [
    "trade_balance = my_sample.groupby(['Country', 'Import_Export'])[['Quantity', 'Value']].sum().unstack().fillna(0)\n",
    "trade_balance.columns = ['Import_Quantity', 'Export_Quantity', 'Import_Value', 'Export_Value']\n",
    "trade_balance['Trade_Balance'] = trade_balance['Export_Value'] - trade_balance['Import_Value']\n",
    "trade_balance.head(n=5)"
   ]
  },
  {
   "cell_type": "markdown",
   "id": "6c79fc02",
   "metadata": {},
   "source": [
    "*A positive trade balance represents that the particular country exports more than it imports, and vice-a-versa for Countries with negative Trade Balance*"
   ]
  },
  {
   "cell_type": "markdown",
   "id": "5993b3bc",
   "metadata": {},
   "source": [
    "### 7. Cost and Revenue Analysis"
   ]
  },
  {
   "cell_type": "code",
   "execution_count": null,
   "id": "bc953acd",
   "metadata": {},
   "outputs": [],
   "source": [
    "# Average Trade Value per Transaction\n",
    "average_value_per_transaction = my_sample['Value'].mean()\n",
    "print(f\"Average Trade Value per Transaction: {average_value_per_transaction}\")"
   ]
  },
  {
   "cell_type": "code",
   "execution_count": null,
   "id": "dbf104fb",
   "metadata": {},
   "outputs": [],
   "source": []
  }
 ],
 "metadata": {
  "kernelspec": {
   "display_name": "Python 3 (ipykernel)",
   "language": "python",
   "name": "python3"
  },
  "language_info": {
   "codemirror_mode": {
    "name": "ipython",
    "version": 3
   },
   "file_extension": ".py",
   "mimetype": "text/x-python",
   "name": "python",
   "nbconvert_exporter": "python",
   "pygments_lexer": "ipython3",
   "version": "3.10.9"
  }
 },
 "nbformat": 4,
 "nbformat_minor": 5
}
