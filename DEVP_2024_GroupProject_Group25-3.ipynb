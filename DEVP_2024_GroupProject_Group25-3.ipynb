{
 "cells": [
  {
   "cell_type": "markdown",
   "id": "874b944b",
   "metadata": {},
   "source": [
    "# TRADE ANALYSIS \n",
    "---"
   ]
  },
  {
   "cell_type": "markdown",
   "id": "6dee3104",
   "metadata": {},
   "source": [
    "## Project Contents:\n",
    "\n",
    "1. Project Information\n",
    "2. Description of Data\n",
    "3. Data Sampling\n",
    "4. Project Objectives\n",
    "5. Data Analysis\n",
    "6. Observations / Findings\n",
    "7. Managerial Insights / Recommendations\n",
    "---"
   ]
  },
  {
   "cell_type": "markdown",
   "id": "ad643f64",
   "metadata": {},
   "source": [
    "## 1. Project Information\n",
    "* Title: Data Exploration with Python using Pandas & Numpy Libraries\n",
    "* Students : **Shefali Dhingra (055043) , Mohit Agarwal (055024)**\n",
    "* Group Number: 25\n",
    "\n",
    "---"
   ]
  },
  {
   "cell_type": "markdown",
   "id": "6d9a53fc",
   "metadata": {},
   "source": [
    "## 2. Description of Data\n",
    "\n",
    "- Data Source: [Dataset link](https://www.kaggle.com/datasets/chakilamvishwas/imports-exports-15000)"
   ]
  },
  {
   "cell_type": "markdown",
   "id": "ad87475c",
   "metadata": {},
   "source": [
    "### Data Columns Description:\n",
    "\n",
    "1. Transaction_ID: Unique identifier for each trade transaction.\n",
    "2. Country: Country of origin or destination for the trade.\n",
    "3. Product: Product being traded.\n",
    "4. Import_Export: Indicates whether the transaction is an import or export.\n",
    "5. Quantity: Amount of the product traded.\n",
    "6. Value: Monetary value of the product in USD.\n",
    "7. Date: Date of the transaction.\n",
    "8. Category: Category of the product (e.g., Electronics, Clothing, Machinery).\n",
    "9. Port: Port of entry or departure.\n",
    "10. Customs_Code: Customs or HS code for product classification.\n",
    "11. Weight: Weight of the product in kilograms.\n",
    "12. Shipping_Method: Method used for shipping (e.g., Air, Sea, Land).\n",
    "13. Supplier: Name of the supplier or manufacturer.\n",
    "14. Customer: Name of the customer or recipient.\n",
    "15. Invoice_Number: Unique invoice number for the transaction.\n",
    "16. Payment_Terms: Terms of payment (e.g., Net 30, Net 60, Cash on Delivery).\n",
    "\n",
    "**Data Format**: The dataset is provided in CSV format\n",
    "\n",
    "*Additional Notes:\n",
    "The dataset consists of 15,000 rows, ensuring a substantial sample size for meaningful analysis.\n",
    "Data is generated with realistic variability, simulating actual trade transactions.*"
   ]
  },
  {
   "cell_type": "markdown",
   "id": "1ee00fb5",
   "metadata": {},
   "source": [
    "Data Type: Since the dataset contains multiple entities (countries) and records data over time, this is an example of **Panel Data** (also called longitudinal data)"
   ]
  },
  {
   "cell_type": "markdown",
   "id": "68ba4477",
   "metadata": {},
   "source": [
    "### Data Variable Type\n",
    "As observed, the dataset contains:\n",
    "1. **All** non-null Variables\n",
    "2. Numbers:\n",
    "    1. Interger Variables: **3**  (*Quantity, Customs_Code, Invoice_Number*)\n",
    "    2. Float (Decimal) Variables: **2**  (*Value, Weight*)\n",
    "3. Text: **9**  (*Country, Product, Import_Export, Category, Port, Shipping_Method, Supplier, Customer, Payment_Terms*)\n",
    "4. DateTime: **1** (*Date*)\n",
    "\n",
    "---"
   ]
  },
  {
   "cell_type": "markdown",
   "id": "1e0a987c",
   "metadata": {},
   "source": [
    "## 3. Data Sampling\n",
    "\n",
    "From the Dataset containing 15,000 values, a sample of 2001 entries was taken. The dataset sample (now refered as my_sample) was taken into account for further exploration. To match with the project objectives, a new column was added to the sample dataset called **Total Value** which represented the product of value of the product and it's quantity Imported/Exported."
   ]
  },
  {
   "cell_type": "markdown",
   "id": "d92891d6",
   "metadata": {},
   "source": [
    "My_sample dataset consists of follwing Nominal, Ordinal and Non-Categorical Data as follows:\n",
    "1. Index_variables are 'Transaction_ID' and 'Invoice_Number'\n",
    "2. Categorical Variables:\n",
    "    - Nominal_Variables are Country, Product, Import_Export, Category, Port, Shipping_Method, Supplier, Customs_Code and Customer\n",
    "    - Ordinal_variable is Payment_Terms\n",
    "3. Non_Categorical_Variables are Quantity, Value and Weight\n",
    "\n",
    "---"
   ]
  },
  {
   "cell_type": "markdown",
   "id": "eaefe8bc",
   "metadata": {},
   "source": [
    "## 4. Project Objectives: Trade Analysis\n",
    "\n",
    "The objective of this project is to **understand the drivers of trade flow efficiency** by analyzing supplier behavior, payment terms, and order timing patterns.\n",
    "\n",
    "The analysis aims to identify **key trends** in international trade, uncover trade flow dynamics, and assess frequently traded goods. By highlighting seasonal and regional variations, it seeks to provide actionable insights that can inform decisions on optimizing global trade processes. \n",
    "\n",
    "---"
   ]
  },
  {
   "cell_type": "markdown",
   "id": "d94d031e",
   "metadata": {},
   "source": [
    "## 5. Exploratory Data Analysis\n",
    "\n",
    "Primarily the data was split into Categorical and Non-Categorical variables for Analysis. The analysis carried forward was as follows:\n",
    "- Non-Categorical Variables:\n",
    "    1. Measures of Central Tendency {Minimum | Maximum | Mean | Median | Mode | Percentile\n",
    "    2. Measures of Dispersion {Range | Standard Deviation | Skewness | Kurtosis | Correlation (Matrix) }\n",
    "    3. Composite Measure {Coefficient of Variation | Confidence Interval}\n",
    "    \n",
    "- Categorical Variables:\n",
    "    {*For this category, the analysis is based on the variable Imports_Exports*}\n",
    "    \n",
    "    1. Count | Frequency | Proportion | Minimum | Maximum | Mode | Rank \n",
    "    \n",
    "- Trade Trend Analysis (based on Imports and Exports) :\n",
    "\n",
    "    - ***Assumption**:*\n",
    "        1. The Value for Imports = The CP for purchase of goods by a Country (Products brought into the Country)\n",
    "        2. The Value for Exports = The SP of goods exported to different Countries (Products Sold by a Country to Another)\n",
    "        3. **Similar shipping costs assumed over every medium of shipping and to and from each country due to limited availability of shipping cost data**\n",
    "    \n",
    "    - The Analysis carried was based on following Major Subheads, split into multiple queries:\n",
    "        - Trade Volume Analysis\n",
    "        - Temporal Trends (Yearly/Monthly Trends)\n",
    "        - Geographical Trade Patterns\n",
    "        - Supplier Behavior\n",
    "        - Trade Performance (Evaluated based on Country)\n",
    "        - Cost and Revenue Analysis\n",
    "        - Shipping and Logistics Analysis\n",
    "        - Payment Term Analysis\n",
    "        \n",
    "\n",
    "---"
   ]
  },
  {
   "cell_type": "markdown",
   "id": "6c27b7c7",
   "metadata": {},
   "source": [
    "## 6. Observations\n",
    "\n",
    "1. **From Non-Categorical Variables, we observed the following:**\n",
    "    - Symmetry: Both Quantity and Value show a relatively symmetric distribution, with their mean and median being close.\n",
    "    - Variability: There is considerable variability in all three variables, as indicated by the standard deviations and the range between minimum and maximum values.\n",
    "    - Skewness: Although not directly visible, given that the minimum values are much lower and the maximum values are quite high, these variables could be slightly positively skewed, with a few higher values pulling the mean above the median.\n",
    "    - Mode values are lower than the mean and median for Value and Weight, which could indicate some common small transactions.\n",
    "    - Range values confirm that the data has a very wide spread, indicating diverse transaction sizes.\n",
    "    - Symmetry: All three variables have very low skewness, indicating their distributions are quite symmetric.\n",
    "    - Flat Distributions: The negative kurtosis values for all three variables suggest that the distributions are flatter than normal, with fewer outliers.\n",
    "    - Moderate Relative Variability: All Non-Categorical variables exhibit a moderate degree of relative variability, with CV values **above 55%**. This indicates that while there is variation in the data, it’s not extreme.\n",
    "    - Confidence in the Mean: The narrow confidence intervals suggest that, despite the variability, the estimates for the mean of each variable are fairly precise.\n",
    "    - Weight's Higher Variability: While the confidence interval for weight is wider than those for quantity and value, the overall variability in weight reflects that the traded goods may have a more diverse range of weights compared to their quantities or values.\n",
    "    - The variables are largely independent, with no evidence of strong direct causal relationships based on the correlation matrix.\n",
    "    \n",
    "2. **For Categorical Variables, the observations were as follows:**\n",
    "    - Frequency: The dataset is perfectly sampled with a 0.51:0.49 ratio of Import_Export values.\n",
    "    - The no. of Imports in the sample is more than no. of Exports, but sice their frquencies are comparable, they dont have much difference between no. of values\n",
    "\n",
    "3. **Trade Trend Analysis observations:**\n",
    "    - Top Exporting Countries: India, Congo, and Maldives are among the countries exporting the highest value of goods.\n",
    "    - Top Exported Products: Onto, Now, and Mr are the top exported products. Although Onto generates the most wealth for its suppliers, Now is not among the top 10 wealth-generating products for the country, and Mr is ranked 8th.\n",
    "    - Top Imported Products: Explain, Strong, and Focus were the top imported products.\n",
    "    - 2021 was the year with the maximum imported products, and 2019 had the minimum exported products. One probable cause could be COVID-19.\n",
    "    - August 2018 was the month with the highest volume of imports.\n",
    "    - Highest Valued Goods Imported in Countries: Bahrain, Brazil, and Belarus.\n",
    "    - Highest Valued Goods Exported from Countries: India, Congo, and Maldives.\n",
    "    - Top Suppliers: Wright Group and Brown PLC are the leading suppliers, contributing the most in terms of total value of exported goods.\n",
    "    - Trade Balance: A positive trade balance was observed for countries that export more than they import, and vice versa for countries with a negative trade balance. Bahrain has the largest trade balance gap, indicating a focus on exports.\n",
    "    - Average Trade Value per Transaction was **$5057.81**.\n",
    "    - Maximum Average value per product is for the product **need**\n",
    "    - Preferred Payment Terms: Cash on Delivery is the most preferred payment term in Bahrain, while countries like India favor Net 30 terms.\n",
    "    - Time Between Orders: The average time between orders is approximately 1.85 days for exports and 1.80 days for imports, indicating similar purchasing patterns.\n",
    "    \n",
    "---"
   ]
  },
  {
   "cell_type": "markdown",
   "id": "91c50936",
   "metadata": {},
   "source": [
    "## 7. Managerial Insights and Recommendations"
   ]
  },
  {
   "cell_type": "markdown",
   "id": "4d7b9607",
   "metadata": {},
   "source": [
    "**1. Trade Flow and Market Opportunities**\n",
    "\n",
    "- Balanced Trade Flow: With an almost equal split between imports and exports (51:49), the trade environment for the analyzed markets is balanced. This stability suggests that both importing and exporting operations are equally viable areas of focus, depending on the country or product.\n",
    "- Opportunities in Export Markets: Countries such as India, Congo, and Maldives are identified as top exporters of goods. **Companies looking to enter or expand in these markets should align their offerings to these countries’ key export demands.** Moreover, the export of products like **Onto**, which generates significant wealth, **presents a lucrative opportunity for suppliers in these markets**.\n",
    "- Emerging Import Trends: Products like Explain, Strong, and Focus are the top imported goods. This suggests a demand for these products in the analyzed markets, making them **potential areas of focus for international suppliers or exporters**.\n",
    "    \n",
    "**2. Product-Level Insights for Strategic Positioning**\n",
    "\n",
    "- Top Exported Products: **Onto, Now, and Mr** are key exported products, but there are notable differences in their economic contributions. While Onto leads in wealth generation, Now does not feature in the top wealth-generating products despite being a top export. This suggests a **mismatch between product volume and value, signaling that suppliers may need to reassess their pricing strategies or focus on higher-value exports.**\n",
    "- Product Wealth Potential: Mr ranks 8th in wealth generation but is one of the top exported products. This implies that **opportunities may exist to improve its value through better market positioning or finding higher-value markets for its export.**\n",
    "\n",
    "**3. Yearly and Monthly Trade Fluctuations**\n",
    "\n",
    "- Impact of Global Events: The year 2021 saw the highest volume of imports, while 2019 had the lowest volume of exports, likely influenced by global events such as COVID-19. **The potential long-term effects of such disruptions and plan for diversification strategies must be considered to mitigate risk in the future**\n",
    "- Seasonal Trends: August 2018 was the month with the highest volume of imports, indicating a potential seasonal spike. **Planning inventory and logistics operations around these peak periods can help optimize supply chain performance and reduce costs during periods of high demand.**\n",
    "\n",
    "**4. Supply Chain and Supplier Management**\n",
    "\n",
    "- Leading Suppliers: Wright Group and Brown PLC have emerged as the top suppliers contributing the most to the total value of exported goods. **Strengthening relationships with these suppliers or exploring collaborations could provide competitive advantages in pricing, delivery speed, and product availability.**\n",
    "- Focus on Trade Balance: Countries like Bahrain have the largest trade balance gap, focusing more on exports. **We should explore opportunities in these regions for export-led growth or assess the demand for imported goods in the markets to address trade imbalances.**\n",
    "\n",
    "**5. Product Pricing and Transactional Insights**\n",
    "\n",
    "- Average Trade Value per Transaction: The average trade value per transaction is $5057.81, which serves as a benchmark for evaluating the efficiency and profitability of international transactions. Whether their transactions fall below or above this average must be analysed further to analyze the factors influencing transaction size and value.\n",
    "- Product Profitability: The product Need has the highest average value per product, indicating it could be a high-margin product for exporters . **Focusing on increasing the trade of such high-value products can help boost profitability.**\n",
    "\n",
    "**6. Payment Terms and Transaction Patterns**\n",
    "\n",
    "- Payment Terms: Cash on Delivery is preferred in countries like Bahrain, while Net 30 terms are common in India. Understanding regional payment preferences is essential for negotiating better payment terms and ensuring smoother transactions. **Customizing payment options based on country-specific preferences could improve cash flow management.**\n",
    "- Order Frequency: The similar time between orders for both imports and exports (approximately 1.85 days for exports and 1.80 days for imports) suggests that purchasing patterns for both types of trade are steady. **This regularity can help in forecasting demand, planning inventory, and managing production schedules more efficiently.**"
   ]
  },
  {
   "cell_type": "markdown",
   "id": "1dfcc182",
   "metadata": {},
   "source": [
    "### Strategic Recommendations:\n",
    "1. Target High-Value Markets: Focus on the top exporting countries (India, Congo, Maldives) and high-value products like Onto and Mr for maximizing profitability.\n",
    "2. Optimize Supply Chain for Peak Periods: Plan logistics around seasonal spikes (like August) and ensure supply chain resilience during disruptive events such as pandemics.\n",
    "3. Leverage Supplier Relationships: Build stronger partnerships with top suppliers like Wright Group and Brown PLC to secure competitive advantages in pricing and product availability.\n",
    "4. Reevaluate Pricing Strategies: Products like Now, which are exported in large volumes but do not generate top wealth, may require better pricing strategies or repositioning in higher-value markets.\n",
    "5. Enhance Payment Flexibility: Tailor payment terms to match the preferences of different countries to improve transaction efficiency and client satisfaction.\n",
    "6. Diversify to Address Trade Balance: Explore ways to introduce or increase imports in countries with large trade balance gaps, such as Bahrain, to reduce reliance on exports and diversify market presence.\n",
    "\n",
    "---\n",
    "--- *End of Report* ---"
   ]
  },
  {
   "cell_type": "markdown",
   "id": "58731d00",
   "metadata": {},
   "source": [
    "## Project Information"
   ]
  },
  {
   "cell_type": "code",
   "execution_count": 70,
   "id": "4c39185c-d9a6-45a5-8cd1-216eeb1d0a17",
   "metadata": {},
   "outputs": [],
   "source": [
    "# Import Relevant Python Libraries\n",
    "\n",
    "import pandas as pd\n",
    "import numpy as np\n",
    "import scipy.stats as stats\n",
    "import warnings\n",
    "import seaborn as sns\n",
    "import matplotlib.pyplot as plt\n",
    "from scipy import stats\n",
    "warnings.filterwarnings('ignore')"
   ]
  },
  {
   "cell_type": "code",
   "execution_count": 71,
   "id": "972920c5-14c4-46dd-b7db-aaae54cfa8ad",
   "metadata": {},
   "outputs": [],
   "source": [
    "# Load the Test Data\n",
    "\n",
    "my_df = pd.read_csv(\"Imports_Exports_Dataset.csv\",index_col=\"Transaction_ID\")"
   ]
  },
  {
   "cell_type": "code",
   "execution_count": 72,
   "id": "a22a5c30-8f8b-4e64-a996-26349461515c",
   "metadata": {},
   "outputs": [
    {
     "name": "stdout",
     "output_type": "stream",
     "text": [
      "The dimensions of the data is:  (15000, 15)\n"
     ]
    }
   ],
   "source": [
    "# Data Dimensions\n",
    "print(\"The dimensions of the data is: \",my_df.shape)"
   ]
  },
  {
   "cell_type": "code",
   "execution_count": 73,
   "id": "8e8b066a-e9b9-4d3c-8728-cadc54135271",
   "metadata": {
    "scrolled": true
   },
   "outputs": [
    {
     "name": "stdout",
     "output_type": "stream",
     "text": [
      "<class 'pandas.core.frame.DataFrame'>\n",
      "Index: 15000 entries, e3e70682-c209-4cac-a29f-6fbed82c07cd to 5cc039d0-a052-41fd-bfbb-c9f60c4565ac\n",
      "Data columns (total 15 columns):\n",
      " #   Column           Non-Null Count  Dtype  \n",
      "---  ------           --------------  -----  \n",
      " 0   Country          15000 non-null  object \n",
      " 1   Product          15000 non-null  object \n",
      " 2   Import_Export    15000 non-null  object \n",
      " 3   Quantity         15000 non-null  int64  \n",
      " 4   Value            15000 non-null  float64\n",
      " 5   Date             15000 non-null  object \n",
      " 6   Category         15000 non-null  object \n",
      " 7   Port             15000 non-null  object \n",
      " 8   Customs_Code     15000 non-null  int64  \n",
      " 9   Weight           15000 non-null  float64\n",
      " 10  Shipping_Method  15000 non-null  object \n",
      " 11  Supplier         15000 non-null  object \n",
      " 12  Customer         15000 non-null  object \n",
      " 13  Invoice_Number   15000 non-null  int64  \n",
      " 14  Payment_Terms    15000 non-null  object \n",
      "dtypes: float64(2), int64(3), object(10)\n",
      "memory usage: 1.8+ MB\n"
     ]
    }
   ],
   "source": [
    "# Data Variable Type\n",
    "my_df.info()"
   ]
  },
  {
   "cell_type": "markdown",
   "id": "8fccb9de",
   "metadata": {},
   "source": [
    "## Data Sampling"
   ]
  },
  {
   "cell_type": "code",
   "execution_count": 74,
   "id": "bbf458c9-1216-4214-8836-2ec3babfcd9d",
   "metadata": {},
   "outputs": [],
   "source": [
    "# A Unique Sample of 2001 Records \n",
    "my_sample = pd.DataFrame.sample(my_df, n=2001, random_state=25 ,ignore_index=False)\n",
    "\n",
    "my_sample['Total_Value'] = round(my_sample['Value']*my_sample['Quantity'],0)"
   ]
  },
  {
   "cell_type": "code",
   "execution_count": 75,
   "id": "581e7f2f-1d74-4074-b376-ffc93f549f40",
   "metadata": {},
   "outputs": [
    {
     "data": {
      "text/plain": [
       "(2001, 16)"
      ]
     },
     "execution_count": 75,
     "metadata": {},
     "output_type": "execute_result"
    }
   ],
   "source": [
    "# Displaying the Dimensions of Sample Data.\n",
    "my_sample.shape"
   ]
  },
  {
   "cell_type": "code",
   "execution_count": 76,
   "id": "b6a458e0-e52f-4e35-aa53-9b0c53c7b39a",
   "metadata": {},
   "outputs": [
    {
     "data": {
      "text/html": [
       "<div>\n",
       "<style scoped>\n",
       "    .dataframe tbody tr th:only-of-type {\n",
       "        vertical-align: middle;\n",
       "    }\n",
       "\n",
       "    .dataframe tbody tr th {\n",
       "        vertical-align: top;\n",
       "    }\n",
       "\n",
       "    .dataframe thead th {\n",
       "        text-align: right;\n",
       "    }\n",
       "</style>\n",
       "<table border=\"1\" class=\"dataframe\">\n",
       "  <thead>\n",
       "    <tr style=\"text-align: right;\">\n",
       "      <th></th>\n",
       "      <th>Country</th>\n",
       "      <th>Product</th>\n",
       "      <th>Import_Export</th>\n",
       "      <th>Quantity</th>\n",
       "      <th>Value</th>\n",
       "      <th>Date</th>\n",
       "      <th>Category</th>\n",
       "      <th>Port</th>\n",
       "      <th>Customs_Code</th>\n",
       "      <th>Weight</th>\n",
       "      <th>Shipping_Method</th>\n",
       "      <th>Supplier</th>\n",
       "      <th>Customer</th>\n",
       "      <th>Invoice_Number</th>\n",
       "      <th>Payment_Terms</th>\n",
       "      <th>Total_Value</th>\n",
       "    </tr>\n",
       "    <tr>\n",
       "      <th>Transaction_ID</th>\n",
       "      <th></th>\n",
       "      <th></th>\n",
       "      <th></th>\n",
       "      <th></th>\n",
       "      <th></th>\n",
       "      <th></th>\n",
       "      <th></th>\n",
       "      <th></th>\n",
       "      <th></th>\n",
       "      <th></th>\n",
       "      <th></th>\n",
       "      <th></th>\n",
       "      <th></th>\n",
       "      <th></th>\n",
       "      <th></th>\n",
       "      <th></th>\n",
       "    </tr>\n",
       "  </thead>\n",
       "  <tbody>\n",
       "    <tr>\n",
       "      <th>27642695-29f2-4864-8650-232095017a24</th>\n",
       "      <td>United Kingdom</td>\n",
       "      <td>society</td>\n",
       "      <td>Export</td>\n",
       "      <td>7167</td>\n",
       "      <td>1312.05</td>\n",
       "      <td>12-03-2022</td>\n",
       "      <td>Toys</td>\n",
       "      <td>Moodyfurt</td>\n",
       "      <td>586678</td>\n",
       "      <td>1877.87</td>\n",
       "      <td>Land</td>\n",
       "      <td>Anderson-Williams</td>\n",
       "      <td>Earl Green</td>\n",
       "      <td>39542245</td>\n",
       "      <td>Net 30</td>\n",
       "      <td>9403462.0</td>\n",
       "    </tr>\n",
       "    <tr>\n",
       "      <th>ab9190ba-7a15-4be5-a25e-2cd73327f319</th>\n",
       "      <td>Belarus</td>\n",
       "      <td>thus</td>\n",
       "      <td>Import</td>\n",
       "      <td>7856</td>\n",
       "      <td>9404.19</td>\n",
       "      <td>15-06-2022</td>\n",
       "      <td>Electronics</td>\n",
       "      <td>West Michelle</td>\n",
       "      <td>839195</td>\n",
       "      <td>1758.71</td>\n",
       "      <td>Sea</td>\n",
       "      <td>Hansen, Burns and Campos</td>\n",
       "      <td>Jessica Duncan</td>\n",
       "      <td>95480876</td>\n",
       "      <td>Cash on Delivery</td>\n",
       "      <td>73879317.0</td>\n",
       "    </tr>\n",
       "    <tr>\n",
       "      <th>db29c218-2d69-4b77-8f40-b3880cc6985b</th>\n",
       "      <td>Azerbaijan</td>\n",
       "      <td>let</td>\n",
       "      <td>Export</td>\n",
       "      <td>18</td>\n",
       "      <td>7522.87</td>\n",
       "      <td>02-12-2021</td>\n",
       "      <td>Toys</td>\n",
       "      <td>Port Richardside</td>\n",
       "      <td>916350</td>\n",
       "      <td>4232.99</td>\n",
       "      <td>Air</td>\n",
       "      <td>Tucker-Townsend</td>\n",
       "      <td>Eric Ramsey</td>\n",
       "      <td>84265114</td>\n",
       "      <td>Prepaid</td>\n",
       "      <td>135412.0</td>\n",
       "    </tr>\n",
       "  </tbody>\n",
       "</table>\n",
       "</div>"
      ],
      "text/plain": [
       "                                             Country  Product Import_Export  \\\n",
       "Transaction_ID                                                                \n",
       "27642695-29f2-4864-8650-232095017a24  United Kingdom  society        Export   \n",
       "ab9190ba-7a15-4be5-a25e-2cd73327f319         Belarus     thus        Import   \n",
       "db29c218-2d69-4b77-8f40-b3880cc6985b      Azerbaijan      let        Export   \n",
       "\n",
       "                                      Quantity    Value        Date  \\\n",
       "Transaction_ID                                                        \n",
       "27642695-29f2-4864-8650-232095017a24      7167  1312.05  12-03-2022   \n",
       "ab9190ba-7a15-4be5-a25e-2cd73327f319      7856  9404.19  15-06-2022   \n",
       "db29c218-2d69-4b77-8f40-b3880cc6985b        18  7522.87  02-12-2021   \n",
       "\n",
       "                                         Category              Port  \\\n",
       "Transaction_ID                                                        \n",
       "27642695-29f2-4864-8650-232095017a24         Toys         Moodyfurt   \n",
       "ab9190ba-7a15-4be5-a25e-2cd73327f319  Electronics     West Michelle   \n",
       "db29c218-2d69-4b77-8f40-b3880cc6985b         Toys  Port Richardside   \n",
       "\n",
       "                                      Customs_Code   Weight Shipping_Method  \\\n",
       "Transaction_ID                                                                \n",
       "27642695-29f2-4864-8650-232095017a24        586678  1877.87            Land   \n",
       "ab9190ba-7a15-4be5-a25e-2cd73327f319        839195  1758.71             Sea   \n",
       "db29c218-2d69-4b77-8f40-b3880cc6985b        916350  4232.99             Air   \n",
       "\n",
       "                                                      Supplier  \\\n",
       "Transaction_ID                                                   \n",
       "27642695-29f2-4864-8650-232095017a24         Anderson-Williams   \n",
       "ab9190ba-7a15-4be5-a25e-2cd73327f319  Hansen, Burns and Campos   \n",
       "db29c218-2d69-4b77-8f40-b3880cc6985b           Tucker-Townsend   \n",
       "\n",
       "                                            Customer  Invoice_Number  \\\n",
       "Transaction_ID                                                         \n",
       "27642695-29f2-4864-8650-232095017a24      Earl Green        39542245   \n",
       "ab9190ba-7a15-4be5-a25e-2cd73327f319  Jessica Duncan        95480876   \n",
       "db29c218-2d69-4b77-8f40-b3880cc6985b     Eric Ramsey        84265114   \n",
       "\n",
       "                                         Payment_Terms  Total_Value  \n",
       "Transaction_ID                                                       \n",
       "27642695-29f2-4864-8650-232095017a24            Net 30    9403462.0  \n",
       "ab9190ba-7a15-4be5-a25e-2cd73327f319  Cash on Delivery   73879317.0  \n",
       "db29c218-2d69-4b77-8f40-b3880cc6985b           Prepaid     135412.0  "
      ]
     },
     "execution_count": 76,
     "metadata": {},
     "output_type": "execute_result"
    }
   ],
   "source": [
    "my_sample.head(n=3)"
   ]
  },
  {
   "cell_type": "markdown",
   "id": "e9a632f6",
   "metadata": {},
   "source": [
    "### Data Variable Category"
   ]
  },
  {
   "cell_type": "code",
   "execution_count": 77,
   "id": "255a5370-ba06-4277-a3c2-5b7f066497e7",
   "metadata": {},
   "outputs": [
    {
     "name": "stdout",
     "output_type": "stream",
     "text": [
      "The Variables are: ['Country', 'Product', 'Import_Export', 'Quantity', 'Value', 'Date', 'Category', 'Port', 'Customs_Code', 'Weight', 'Shipping_Method', 'Supplier', 'Customer', 'Invoice_Number', 'Payment_Terms', 'Total_Value']\n"
     ]
    }
   ],
   "source": [
    "# Columns in the dataset\n",
    "variables=list(my_sample.columns)\n",
    "print(\"The Variables are:\", variables)"
   ]
  },
  {
   "cell_type": "code",
   "execution_count": 78,
   "id": "1815ea8d-933e-40fe-ae10-470221ba8e53",
   "metadata": {},
   "outputs": [],
   "source": [
    "# Bifurcating the Variables into Index, Categorical (Nominal, Ordinal) and Non-Categorical Variables\n",
    "\n",
    "Index_variables=['Transaction_ID','Invoice_Number']\n",
    "Nominal_Variables=[ 'Country','Product','Import_Export','Category','Port','Shipping_Method','Supplier','Customer','Customs_Code']\n",
    "Ordinal_variables=['Payment_Terms']\n",
    "Categorical_Variables = Nominal_Variables + Ordinal_variables\n",
    "Non_Categorical_Variables=['Quantity','Value','Weight']"
   ]
  },
  {
   "cell_type": "markdown",
   "id": "cc9e4fd5",
   "metadata": {},
   "source": [
    "---"
   ]
  },
  {
   "cell_type": "markdown",
   "id": "ef961f24",
   "metadata": {},
   "source": [
    "## Exploratory Data Analysis"
   ]
  },
  {
   "cell_type": "markdown",
   "id": "66fa2ade",
   "metadata": {},
   "source": [
    "### Non-Categorical Variables"
   ]
  },
  {
   "cell_type": "code",
   "execution_count": 79,
   "id": "26e3e484",
   "metadata": {
    "scrolled": true
   },
   "outputs": [
    {
     "data": {
      "text/html": [
       "<div>\n",
       "<style scoped>\n",
       "    .dataframe tbody tr th:only-of-type {\n",
       "        vertical-align: middle;\n",
       "    }\n",
       "\n",
       "    .dataframe tbody tr th {\n",
       "        vertical-align: top;\n",
       "    }\n",
       "\n",
       "    .dataframe thead th {\n",
       "        text-align: right;\n",
       "    }\n",
       "</style>\n",
       "<table border=\"1\" class=\"dataframe\">\n",
       "  <thead>\n",
       "    <tr style=\"text-align: right;\">\n",
       "      <th></th>\n",
       "      <th>Quantity</th>\n",
       "      <th>Value</th>\n",
       "      <th>Weight</th>\n",
       "    </tr>\n",
       "  </thead>\n",
       "  <tbody>\n",
       "    <tr>\n",
       "      <th>count</th>\n",
       "      <td>2001.000000</td>\n",
       "      <td>2001.000000</td>\n",
       "      <td>2001.000000</td>\n",
       "    </tr>\n",
       "    <tr>\n",
       "      <th>mean</th>\n",
       "      <td>5056.252874</td>\n",
       "      <td>5057.808326</td>\n",
       "      <td>2514.559630</td>\n",
       "    </tr>\n",
       "    <tr>\n",
       "      <th>std</th>\n",
       "      <td>2883.266420</td>\n",
       "      <td>2831.723338</td>\n",
       "      <td>1461.238112</td>\n",
       "    </tr>\n",
       "    <tr>\n",
       "      <th>min</th>\n",
       "      <td>5.000000</td>\n",
       "      <td>102.870000</td>\n",
       "      <td>5.860000</td>\n",
       "    </tr>\n",
       "    <tr>\n",
       "      <th>25%</th>\n",
       "      <td>2558.000000</td>\n",
       "      <td>2618.190000</td>\n",
       "      <td>1233.080000</td>\n",
       "    </tr>\n",
       "    <tr>\n",
       "      <th>50%</th>\n",
       "      <td>5118.000000</td>\n",
       "      <td>5019.040000</td>\n",
       "      <td>2521.100000</td>\n",
       "    </tr>\n",
       "    <tr>\n",
       "      <th>75%</th>\n",
       "      <td>7580.000000</td>\n",
       "      <td>7534.150000</td>\n",
       "      <td>3802.610000</td>\n",
       "    </tr>\n",
       "    <tr>\n",
       "      <th>max</th>\n",
       "      <td>9988.000000</td>\n",
       "      <td>9998.070000</td>\n",
       "      <td>4997.130000</td>\n",
       "    </tr>\n",
       "  </tbody>\n",
       "</table>\n",
       "</div>"
      ],
      "text/plain": [
       "          Quantity        Value       Weight\n",
       "count  2001.000000  2001.000000  2001.000000\n",
       "mean   5056.252874  5057.808326  2514.559630\n",
       "std    2883.266420  2831.723338  1461.238112\n",
       "min       5.000000   102.870000     5.860000\n",
       "25%    2558.000000  2618.190000  1233.080000\n",
       "50%    5118.000000  5019.040000  2521.100000\n",
       "75%    7580.000000  7534.150000  3802.610000\n",
       "max    9988.000000  9998.070000  4997.130000"
      ]
     },
     "execution_count": 79,
     "metadata": {},
     "output_type": "execute_result"
    }
   ],
   "source": [
    "my_sample[Non_Categorical_Variables].describe()"
   ]
  },
  {
   "cell_type": "markdown",
   "id": "c4b7653a",
   "metadata": {},
   "source": [
    "**Observation:**\n",
    "\n",
    "1. Symmetry: Both Quantity and Value show a relatively symmetric distribution, with their mean and median being close.\n",
    "2. Variability: There is considerable variability in all three variables, as indicated by the standard deviations and the range between minimum and maximum values.\n",
    "3. Skewness: Although not directly visible, given that the minimum values are much lower and the maximum values are quite high, these variables could be slightly positively skewed, with a few higher values pulling the mean above the median."
   ]
  },
  {
   "cell_type": "code",
   "execution_count": 80,
   "id": "2c450fb9",
   "metadata": {
    "scrolled": true
   },
   "outputs": [],
   "source": [
    "def summarize_numerical(my_sample, variables):\n",
    "    summary = {}\n",
    "    \n",
    "    for col in variables:\n",
    "        if col in my_sample[Non_Categorical_Variables]:  # Check if the column exists in the DataFrame\n",
    "            summary[col] = {\n",
    "                'Mode': my_sample[col].mode()[0],\n",
    "                'Range': my_sample[col].max() - my_sample[col].min(),\n",
    "                'Skewness': my_sample[col].skew() ,\n",
    "                'Kurtosis': my_sample[col].kurtosis()\n",
    "            }\n",
    "    return summary"
   ]
  },
  {
   "cell_type": "code",
   "execution_count": 81,
   "id": "55b7d819",
   "metadata": {
    "scrolled": true
   },
   "outputs": [
    {
     "data": {
      "text/html": [
       "<div>\n",
       "<style scoped>\n",
       "    .dataframe tbody tr th:only-of-type {\n",
       "        vertical-align: middle;\n",
       "    }\n",
       "\n",
       "    .dataframe tbody tr th {\n",
       "        vertical-align: top;\n",
       "    }\n",
       "\n",
       "    .dataframe thead th {\n",
       "        text-align: right;\n",
       "    }\n",
       "</style>\n",
       "<table border=\"1\" class=\"dataframe\">\n",
       "  <thead>\n",
       "    <tr style=\"text-align: right;\">\n",
       "      <th></th>\n",
       "      <th>Mode</th>\n",
       "      <th>Range</th>\n",
       "      <th>Skewness</th>\n",
       "      <th>Kurtosis</th>\n",
       "    </tr>\n",
       "  </thead>\n",
       "  <tbody>\n",
       "    <tr>\n",
       "      <th>Quantity</th>\n",
       "      <td>9154.00</td>\n",
       "      <td>9983.00</td>\n",
       "      <td>-0.035800</td>\n",
       "      <td>-1.222356</td>\n",
       "    </tr>\n",
       "    <tr>\n",
       "      <th>Value</th>\n",
       "      <td>470.79</td>\n",
       "      <td>9895.20</td>\n",
       "      <td>-0.000386</td>\n",
       "      <td>-1.184876</td>\n",
       "    </tr>\n",
       "    <tr>\n",
       "      <th>Weight</th>\n",
       "      <td>319.51</td>\n",
       "      <td>4991.27</td>\n",
       "      <td>-0.007058</td>\n",
       "      <td>-1.226472</td>\n",
       "    </tr>\n",
       "  </tbody>\n",
       "</table>\n",
       "</div>"
      ],
      "text/plain": [
       "             Mode    Range  Skewness  Kurtosis\n",
       "Quantity  9154.00  9983.00 -0.035800 -1.222356\n",
       "Value      470.79  9895.20 -0.000386 -1.184876\n",
       "Weight     319.51  4991.27 -0.007058 -1.226472"
      ]
     },
     "execution_count": 81,
     "metadata": {},
     "output_type": "execute_result"
    }
   ],
   "source": [
    "summary_stats = summarize_numerical(my_sample, Non_Categorical_Variables)\n",
    "summary_df = pd.DataFrame.from_dict(summary_stats, orient='index')\n",
    "summary_df"
   ]
  },
  {
   "cell_type": "markdown",
   "id": "5da20c83",
   "metadata": {},
   "source": [
    "1. Mode values are lower than the mean and median for Value and Weight, which could indicate some common small transactions.\n",
    "2. Range values confirm that the data has a very wide spread, indicating diverse transaction sizes.\n",
    "3. Symmetry: All three variables have very low skewness, indicating their distributions are quite symmetric.\n",
    "4. Flat Distributions: The negative kurtosis values for all three variables suggest that the distributions are flatter than normal, with fewer outliers."
   ]
  },
  {
   "cell_type": "code",
   "execution_count": 82,
   "id": "3c62af32",
   "metadata": {},
   "outputs": [
    {
     "name": "stdout",
     "output_type": "stream",
     "text": [
      "Coefficient of Variation (%):\n",
      "Quantity: 57.02%\n",
      "Value: 55.99%\n",
      "Weight: 58.11%\n"
     ]
    }
   ],
   "source": [
    "# Coefficient of Variation\n",
    "def coefficient_of_variation(data):\n",
    "    mean = data.mean()\n",
    "    std = data.std()\n",
    "    cv = (std / mean) * 100\n",
    "    return cv\n",
    "\n",
    "cv_results = {}\n",
    "\n",
    "for col in Non_Categorical_Variables:\n",
    "    cv_results[col] = coefficient_of_variation(my_sample[col])\n",
    "\n",
    "# Display the results\n",
    "print(\"Coefficient of Variation (%):\")\n",
    "for col, cv in cv_results.items():\n",
    "    print(f\"{col}: {cv:.2f}%\")"
   ]
  },
  {
   "cell_type": "code",
   "execution_count": 83,
   "id": "7c3ffa95",
   "metadata": {
    "scrolled": true
   },
   "outputs": [
    {
     "name": "stdout",
     "output_type": "stream",
     "text": [
      "\n",
      "Confidence Intervals (95%):\n",
      "Quantity: 4929.92 to 5182.58\n",
      "Value: 4933.74 to 5181.88\n",
      "Weight: 2450.54 to 2578.58\n"
     ]
    }
   ],
   "source": [
    "# Confidence Interval for the Mean\n",
    "def confidence_interval(data, confidence=0.95):\n",
    "    mean = data.mean()\n",
    "    std = data.std()\n",
    "    n = len(data)\n",
    "    z = stats.norm.ppf(1 - (1 - confidence) / 2)  # z-score for 95% CI \n",
    "    margin_of_error = z * (std / np.sqrt(n))\n",
    "    lower_bound = mean - margin_of_error\n",
    "    upper_bound = mean + margin_of_error\n",
    "    return (lower_bound, upper_bound)\n",
    "\n",
    "ci_results = {}\n",
    "for col in Non_Categorical_Variables:\n",
    "    ci_results[col] = confidence_interval(my_sample[col])\n",
    "    \n",
    "\n",
    "print(\"\\nConfidence Intervals (95%):\")\n",
    "for col, ci in ci_results.items():\n",
    "    print(f\"{col}: {ci[0]:.2f} to {ci[1]:.2f}\")"
   ]
  },
  {
   "cell_type": "markdown",
   "id": "1f8c5ac7",
   "metadata": {},
   "source": [
    "1. Moderate Relative Variability: All Non-Categorical variables exhibit a moderate degree of relative variability, with CV values **above 55%**. This indicates that while there is variation in the data, it’s not extreme.\n",
    "2. Confidence in the Mean: The narrow confidence intervals suggest that, despite the variability, the estimates for the mean of each variable are fairly precise.\n",
    "3. Weight's Higher Variability: While the confidence interval for weight is wider than those for quantity and value, the overall variability in weight reflects that the traded goods may have a more diverse range of weights compared to their quantities or values."
   ]
  },
  {
   "cell_type": "code",
   "execution_count": 84,
   "id": "aafe685f",
   "metadata": {
    "scrolled": true
   },
   "outputs": [
    {
     "name": "stdout",
     "output_type": "stream",
     "text": [
      "Correlation Matrix:\n"
     ]
    },
    {
     "data": {
      "text/html": [
       "<div>\n",
       "<style scoped>\n",
       "    .dataframe tbody tr th:only-of-type {\n",
       "        vertical-align: middle;\n",
       "    }\n",
       "\n",
       "    .dataframe tbody tr th {\n",
       "        vertical-align: top;\n",
       "    }\n",
       "\n",
       "    .dataframe thead th {\n",
       "        text-align: right;\n",
       "    }\n",
       "</style>\n",
       "<table border=\"1\" class=\"dataframe\">\n",
       "  <thead>\n",
       "    <tr style=\"text-align: right;\">\n",
       "      <th></th>\n",
       "      <th>Quantity</th>\n",
       "      <th>Value</th>\n",
       "      <th>Weight</th>\n",
       "    </tr>\n",
       "  </thead>\n",
       "  <tbody>\n",
       "    <tr>\n",
       "      <th>Quantity</th>\n",
       "      <td>1.000000</td>\n",
       "      <td>-0.031903</td>\n",
       "      <td>-0.018497</td>\n",
       "    </tr>\n",
       "    <tr>\n",
       "      <th>Value</th>\n",
       "      <td>-0.031903</td>\n",
       "      <td>1.000000</td>\n",
       "      <td>-0.026325</td>\n",
       "    </tr>\n",
       "    <tr>\n",
       "      <th>Weight</th>\n",
       "      <td>-0.018497</td>\n",
       "      <td>-0.026325</td>\n",
       "      <td>1.000000</td>\n",
       "    </tr>\n",
       "  </tbody>\n",
       "</table>\n",
       "</div>"
      ],
      "text/plain": [
       "          Quantity     Value    Weight\n",
       "Quantity  1.000000 -0.031903 -0.018497\n",
       "Value    -0.031903  1.000000 -0.026325\n",
       "Weight   -0.018497 -0.026325  1.000000"
      ]
     },
     "execution_count": 84,
     "metadata": {},
     "output_type": "execute_result"
    }
   ],
   "source": [
    "correlation_data = my_sample[Non_Categorical_Variables]\n",
    "correlation_matrix = correlation_data.corr()\n",
    "print(\"Correlation Matrix:\")\n",
    "correlation_matrix"
   ]
  },
  {
   "cell_type": "code",
   "execution_count": 85,
   "id": "276513dc",
   "metadata": {
    "scrolled": true
   },
   "outputs": [
    {
     "data": {
      "image/png": "[encoded data removed]",
      "text/plain": [
       "<Figure size 800x500 with 2 Axes>"
      ]
     },
     "metadata": {},
     "output_type": "display_data"
    }
   ],
   "source": [
    "plt.figure(figsize=(8, 5))\n",
    "sns.heatmap(correlation_matrix, annot=True, cmap='coolwarm', linewidths=0.5)\n",
    "plt.title('Correlation Matrix Heatmap')\n",
    "plt.show()"
   ]
  },
  {
   "cell_type": "markdown",
   "id": "9bba7788",
   "metadata": {},
   "source": [
    "Based on this correlation matrix, there are no significant linear causal relationships between the variables. The correlations are all very close to zero, which means that changes in one variable are not strongly associated with changes in another."
   ]
  },
  {
   "cell_type": "markdown",
   "id": "789e5f7f",
   "metadata": {},
   "source": [
    "### Categorical (Based on Imports_Exports)"
   ]
  },
  {
   "cell_type": "code",
   "execution_count": 86,
   "id": "4d48fc63",
   "metadata": {},
   "outputs": [
    {
     "data": {
      "text/plain": [
       "Import    1013\n",
       "Export     988\n",
       "Name: Import_Export, dtype: int64"
      ]
     },
     "execution_count": 86,
     "metadata": {},
     "output_type": "execute_result"
    }
   ],
   "source": [
    "#Count of Imports and Exports\n",
    "counts = my_sample['Import_Export'].value_counts()\n",
    "counts"
   ]
  },
  {
   "cell_type": "code",
   "execution_count": 87,
   "id": "d0ae18e8",
   "metadata": {},
   "outputs": [
    {
     "data": {
      "text/plain": [
       "Import    0.51\n",
       "Export    0.49\n",
       "Name: Import_Export, dtype: float64"
      ]
     },
     "execution_count": 87,
     "metadata": {},
     "output_type": "execute_result"
    }
   ],
   "source": [
    "# Frequency of Imports and Exports\n",
    "frequency = counts / counts.sum()\n",
    "round(frequency,2)"
   ]
  },
  {
   "cell_type": "markdown",
   "id": "15974f7f",
   "metadata": {},
   "source": [
    "---> Comparable frequencies represent that data is split almost equal, thus minimising the need for data sampling"
   ]
  },
  {
   "cell_type": "markdown",
   "id": "31e2ac34",
   "metadata": {},
   "source": [
    "***Splitting Data into Imports and Exports***"
   ]
  },
  {
   "cell_type": "code",
   "execution_count": 88,
   "id": "8eb0622f",
   "metadata": {},
   "outputs": [],
   "source": [
    "Import_export_grouped = my_sample.groupby('Import_Export')\n",
    "import_sample = Import_export_grouped.get_group('Import')\n",
    "export_sample = Import_export_grouped.get_group('Export')"
   ]
  },
  {
   "cell_type": "markdown",
   "id": "cb91e78b",
   "metadata": {},
   "source": [
    "**Assumption**:\n",
    "1. The Value for Imports = The CP for purchase of goods by a Country (Products brought into the Country)\n",
    "2. The Value for Exports = The SP of goods exported to different Countries (Products Sold by a Country to Another)\n",
    "3. **Similar shipping costs assumed over every medium of shipping and to and from each country due to limited availability of shipping cost data**"
   ]
  },
  {
   "cell_type": "code",
   "execution_count": 89,
   "id": "ae81fa51",
   "metadata": {},
   "outputs": [],
   "source": [
    "#Combining Value and Quantity to create Total Value Spent/Generated\n",
    "\n",
    "export_sample['Total_Value'] = round(export_sample['Value']*export_sample['Quantity'],0)\n",
    "import_sample['Total_Value'] = round(import_sample['Value']*import_sample['Quantity'],0)\n",
    "#import_sample.head(3)"
   ]
  },
  {
   "cell_type": "code",
   "execution_count": 90,
   "id": "764a330c",
   "metadata": {},
   "outputs": [
    {
     "data": {
      "text/plain": [
       "((1013, 16), (988, 16))"
      ]
     },
     "execution_count": 90,
     "metadata": {},
     "output_type": "execute_result"
    }
   ],
   "source": [
    "import_sample.shape, export_sample.shape"
   ]
  },
  {
   "cell_type": "code",
   "execution_count": 91,
   "id": "72003225",
   "metadata": {},
   "outputs": [
    {
     "name": "stdout",
     "output_type": "stream",
     "text": [
      "Maximum Exports:  Congo\n"
     ]
    }
   ],
   "source": [
    "#Minimum and Maximum Values\n",
    "\n",
    "#Country with Max Exports\n",
    "print(\"Maximum Exports: \",export_sample['Country'].value_counts().idxmax())"
   ]
  },
  {
   "cell_type": "code",
   "execution_count": 92,
   "id": "b0217f3d",
   "metadata": {},
   "outputs": [
    {
     "name": "stdout",
     "output_type": "stream",
     "text": [
      "Minimum Exports:  Iran\n"
     ]
    }
   ],
   "source": [
    "#Country with Min Exports\n",
    "print(\"Minimum Exports: \",export_sample['Country'].value_counts().idxmin())"
   ]
  },
  {
   "cell_type": "code",
   "execution_count": 93,
   "id": "c72aaeb6",
   "metadata": {},
   "outputs": [
    {
     "name": "stdout",
     "output_type": "stream",
     "text": [
      "Maximum Imports:  Chad\n"
     ]
    }
   ],
   "source": [
    "#Country with Max Imports\n",
    "print(\"Maximum Imports: \",import_sample['Country'].value_counts().idxmax())"
   ]
  },
  {
   "cell_type": "code",
   "execution_count": 94,
   "id": "045c40fe",
   "metadata": {
    "scrolled": false
   },
   "outputs": [
    {
     "name": "stdout",
     "output_type": "stream",
     "text": [
      "Minimum Imports:  Bouvet Island (Bouvetoya)\n"
     ]
    }
   ],
   "source": [
    "#Country with Min Imports\n",
    "print(\"Minimum Imports: \",import_sample['Country'].value_counts().idxmin())"
   ]
  },
  {
   "cell_type": "code",
   "execution_count": 95,
   "id": "d6c34d4d",
   "metadata": {},
   "outputs": [
    {
     "data": {
      "text/plain": [
       "Import    1.0\n",
       "Export    2.0\n",
       "Name: Import_Export, dtype: float64"
      ]
     },
     "execution_count": 95,
     "metadata": {},
     "output_type": "execute_result"
    }
   ],
   "source": [
    "counts.rank(ascending=False)"
   ]
  },
  {
   "cell_type": "markdown",
   "id": "9a1f2aee",
   "metadata": {},
   "source": [
    "The no. of Imports in the sample is more than no. of Exports, but sice their frquencies are comparable, they dont have much difference between no. of values\n",
    "\n",
    "---"
   ]
  },
  {
   "cell_type": "markdown",
   "id": "baea3131",
   "metadata": {},
   "source": [
    "### Trade Trend Analysis, based on Imports and Exports:"
   ]
  },
  {
   "cell_type": "markdown",
   "id": "4d031580",
   "metadata": {},
   "source": [
    "#### A. Trade Volume Analysis"
   ]
  },
  {
   "cell_type": "code",
   "execution_count": 96,
   "id": "ea576c4c",
   "metadata": {},
   "outputs": [
    {
     "data": {
      "text/html": [
       "<div>\n",
       "<style scoped>\n",
       "    .dataframe tbody tr th:only-of-type {\n",
       "        vertical-align: middle;\n",
       "    }\n",
       "\n",
       "    .dataframe tbody tr th {\n",
       "        vertical-align: top;\n",
       "    }\n",
       "\n",
       "    .dataframe thead th {\n",
       "        text-align: right;\n",
       "    }\n",
       "</style>\n",
       "<table border=\"1\" class=\"dataframe\">\n",
       "  <thead>\n",
       "    <tr style=\"text-align: right;\">\n",
       "      <th></th>\n",
       "      <th>Value</th>\n",
       "    </tr>\n",
       "    <tr>\n",
       "      <th>Import_Export</th>\n",
       "      <th></th>\n",
       "    </tr>\n",
       "  </thead>\n",
       "  <tbody>\n",
       "    <tr>\n",
       "      <th>Export</th>\n",
       "      <td>4930154.32</td>\n",
       "    </tr>\n",
       "    <tr>\n",
       "      <th>Import</th>\n",
       "      <td>5190520.14</td>\n",
       "    </tr>\n",
       "  </tbody>\n",
       "</table>\n",
       "</div>"
      ],
      "text/plain": [
       "                    Value\n",
       "Import_Export            \n",
       "Export         4930154.32\n",
       "Import         5190520.14"
      ]
     },
     "execution_count": 96,
     "metadata": {},
     "output_type": "execute_result"
    }
   ],
   "source": [
    "#Total Value of Goods Exported and Imported between 2019 to 2024\n",
    "\n",
    "import_export_comparison = my_sample.groupby('Import_Export')[['Value']].sum()\n",
    "import_export_comparison"
   ]
  },
  {
   "cell_type": "code",
   "execution_count": 97,
   "id": "94b91463",
   "metadata": {},
   "outputs": [
    {
     "data": {
      "text/html": [
       "<div>\n",
       "<style scoped>\n",
       "    .dataframe tbody tr th:only-of-type {\n",
       "        vertical-align: middle;\n",
       "    }\n",
       "\n",
       "    .dataframe tbody tr th {\n",
       "        vertical-align: top;\n",
       "    }\n",
       "\n",
       "    .dataframe thead th {\n",
       "        text-align: right;\n",
       "    }\n",
       "</style>\n",
       "<table border=\"1\" class=\"dataframe\">\n",
       "  <thead>\n",
       "    <tr style=\"text-align: right;\">\n",
       "      <th></th>\n",
       "      <th>Total_Value</th>\n",
       "    </tr>\n",
       "    <tr>\n",
       "      <th>Country</th>\n",
       "      <th></th>\n",
       "    </tr>\n",
       "  </thead>\n",
       "  <tbody>\n",
       "    <tr>\n",
       "      <th>India</th>\n",
       "      <td>437500308.0</td>\n",
       "    </tr>\n",
       "    <tr>\n",
       "      <th>Congo</th>\n",
       "      <td>419585262.0</td>\n",
       "    </tr>\n",
       "    <tr>\n",
       "      <th>Maldives</th>\n",
       "      <td>371578477.0</td>\n",
       "    </tr>\n",
       "    <tr>\n",
       "      <th>Kiribati</th>\n",
       "      <td>342040184.0</td>\n",
       "    </tr>\n",
       "    <tr>\n",
       "      <th>Czech Republic</th>\n",
       "      <td>290887468.0</td>\n",
       "    </tr>\n",
       "    <tr>\n",
       "      <th>Brazil</th>\n",
       "      <td>263285321.0</td>\n",
       "    </tr>\n",
       "    <tr>\n",
       "      <th>Liechtenstein</th>\n",
       "      <td>247446342.0</td>\n",
       "    </tr>\n",
       "    <tr>\n",
       "      <th>Palestinian Territory</th>\n",
       "      <td>242195253.0</td>\n",
       "    </tr>\n",
       "    <tr>\n",
       "      <th>Korea</th>\n",
       "      <td>241147261.0</td>\n",
       "    </tr>\n",
       "    <tr>\n",
       "      <th>Japan</th>\n",
       "      <td>238520707.0</td>\n",
       "    </tr>\n",
       "  </tbody>\n",
       "</table>\n",
       "</div>"
      ],
      "text/plain": [
       "                       Total_Value\n",
       "Country                           \n",
       "India                  437500308.0\n",
       "Congo                  419585262.0\n",
       "Maldives               371578477.0\n",
       "Kiribati               342040184.0\n",
       "Czech Republic         290887468.0\n",
       "Brazil                 263285321.0\n",
       "Liechtenstein          247446342.0\n",
       "Palestinian Territory  242195253.0\n",
       "Korea                  241147261.0\n",
       "Japan                  238520707.0"
      ]
     },
     "execution_count": 97,
     "metadata": {},
     "output_type": "execute_result"
    }
   ],
   "source": [
    "#Top 10 Countries with Maximum Export Sales Profits\n",
    "\n",
    "trade_volume_country = export_sample.groupby('Country')[['Total_Value']].sum().sort_values(by='Total_Value', ascending=False)\n",
    "trade_volume_country.head(n=10)"
   ]
  },
  {
   "cell_type": "code",
   "execution_count": 98,
   "id": "b48a75df",
   "metadata": {
    "scrolled": false
   },
   "outputs": [
    {
     "data": {
      "text/html": [
       "<div>\n",
       "<style scoped>\n",
       "    .dataframe tbody tr th:only-of-type {\n",
       "        vertical-align: middle;\n",
       "    }\n",
       "\n",
       "    .dataframe tbody tr th {\n",
       "        vertical-align: top;\n",
       "    }\n",
       "\n",
       "    .dataframe thead th {\n",
       "        text-align: right;\n",
       "    }\n",
       "</style>\n",
       "<table border=\"1\" class=\"dataframe\">\n",
       "  <thead>\n",
       "    <tr style=\"text-align: right;\">\n",
       "      <th></th>\n",
       "      <th>Quantity</th>\n",
       "      <th>Value</th>\n",
       "    </tr>\n",
       "    <tr>\n",
       "      <th>Product</th>\n",
       "      <th></th>\n",
       "      <th></th>\n",
       "    </tr>\n",
       "  </thead>\n",
       "  <tbody>\n",
       "    <tr>\n",
       "      <th>onto</th>\n",
       "      <td>33534</td>\n",
       "      <td>31115.68</td>\n",
       "    </tr>\n",
       "    <tr>\n",
       "      <th>now</th>\n",
       "      <td>27952</td>\n",
       "      <td>14980.57</td>\n",
       "    </tr>\n",
       "    <tr>\n",
       "      <th>Mr</th>\n",
       "      <td>27638</td>\n",
       "      <td>30068.69</td>\n",
       "    </tr>\n",
       "    <tr>\n",
       "      <th>beyond</th>\n",
       "      <td>26878</td>\n",
       "      <td>16959.45</td>\n",
       "    </tr>\n",
       "    <tr>\n",
       "      <th>administration</th>\n",
       "      <td>26273</td>\n",
       "      <td>31302.21</td>\n",
       "    </tr>\n",
       "    <tr>\n",
       "      <th>course</th>\n",
       "      <td>25873</td>\n",
       "      <td>16601.72</td>\n",
       "    </tr>\n",
       "    <tr>\n",
       "      <th>organization</th>\n",
       "      <td>25827</td>\n",
       "      <td>11774.46</td>\n",
       "    </tr>\n",
       "    <tr>\n",
       "      <th>bank</th>\n",
       "      <td>24516</td>\n",
       "      <td>29501.23</td>\n",
       "    </tr>\n",
       "    <tr>\n",
       "      <th>guess</th>\n",
       "      <td>24115</td>\n",
       "      <td>17845.80</td>\n",
       "    </tr>\n",
       "    <tr>\n",
       "      <th>street</th>\n",
       "      <td>24094</td>\n",
       "      <td>18830.97</td>\n",
       "    </tr>\n",
       "  </tbody>\n",
       "</table>\n",
       "</div>"
      ],
      "text/plain": [
       "                Quantity     Value\n",
       "Product                           \n",
       "onto               33534  31115.68\n",
       "now                27952  14980.57\n",
       "Mr                 27638  30068.69\n",
       "beyond             26878  16959.45\n",
       "administration     26273  31302.21\n",
       "course             25873  16601.72\n",
       "organization       25827  11774.46\n",
       "bank               24516  29501.23\n",
       "guess              24115  17845.80\n",
       "street             24094  18830.97"
      ]
     },
     "execution_count": 98,
     "metadata": {},
     "output_type": "execute_result"
    }
   ],
   "source": [
    "# Top 10 Exported Products\n",
    "\n",
    "Max_exported_prod = export_sample.groupby('Product')[['Quantity', 'Value']].sum().sort_values(by='Quantity', ascending=False)\n",
    "Max_exported_prod.head(n=10)"
   ]
  },
  {
   "cell_type": "code",
   "execution_count": 99,
   "id": "b07c35bc",
   "metadata": {},
   "outputs": [
    {
     "data": {
      "text/html": [
       "<div>\n",
       "<style scoped>\n",
       "    .dataframe tbody tr th:only-of-type {\n",
       "        vertical-align: middle;\n",
       "    }\n",
       "\n",
       "    .dataframe tbody tr th {\n",
       "        vertical-align: top;\n",
       "    }\n",
       "\n",
       "    .dataframe thead th {\n",
       "        text-align: right;\n",
       "    }\n",
       "</style>\n",
       "<table border=\"1\" class=\"dataframe\">\n",
       "  <thead>\n",
       "    <tr style=\"text-align: right;\">\n",
       "      <th></th>\n",
       "      <th>Total_Value</th>\n",
       "    </tr>\n",
       "    <tr>\n",
       "      <th>Product</th>\n",
       "      <th></th>\n",
       "    </tr>\n",
       "  </thead>\n",
       "  <tbody>\n",
       "    <tr>\n",
       "      <th>explain</th>\n",
       "      <td>185217130.0</td>\n",
       "    </tr>\n",
       "    <tr>\n",
       "      <th>strong</th>\n",
       "      <td>163991660.0</td>\n",
       "    </tr>\n",
       "    <tr>\n",
       "      <th>focus</th>\n",
       "      <td>163253032.0</td>\n",
       "    </tr>\n",
       "    <tr>\n",
       "      <th>create</th>\n",
       "      <td>157856030.0</td>\n",
       "    </tr>\n",
       "    <tr>\n",
       "      <th>mouth</th>\n",
       "      <td>153780509.0</td>\n",
       "    </tr>\n",
       "    <tr>\n",
       "      <th>act</th>\n",
       "      <td>149732244.0</td>\n",
       "    </tr>\n",
       "    <tr>\n",
       "      <th>heavy</th>\n",
       "      <td>147176759.0</td>\n",
       "    </tr>\n",
       "    <tr>\n",
       "      <th>place</th>\n",
       "      <td>145207075.0</td>\n",
       "    </tr>\n",
       "    <tr>\n",
       "      <th>she</th>\n",
       "      <td>143556471.0</td>\n",
       "    </tr>\n",
       "    <tr>\n",
       "      <th>both</th>\n",
       "      <td>140638902.0</td>\n",
       "    </tr>\n",
       "  </tbody>\n",
       "</table>\n",
       "</div>"
      ],
      "text/plain": [
       "         Total_Value\n",
       "Product             \n",
       "explain  185217130.0\n",
       "strong   163991660.0\n",
       "focus    163253032.0\n",
       "create   157856030.0\n",
       "mouth    153780509.0\n",
       "act      149732244.0\n",
       "heavy    147176759.0\n",
       "place    145207075.0\n",
       "she      143556471.0\n",
       "both     140638902.0"
      ]
     },
     "execution_count": 99,
     "metadata": {},
     "output_type": "execute_result"
    }
   ],
   "source": [
    "# Top 10 Products Imported based on Total Wealth Spent from 2019-2024\n",
    "\n",
    "Max_imported_prod = import_sample.groupby('Product')[['Total_Value']].sum().sort_values(by='Total_Value', ascending=False)\n",
    "Max_imported_prod.head(n=10)"
   ]
  },
  {
   "cell_type": "code",
   "execution_count": 100,
   "id": "cfce8182",
   "metadata": {},
   "outputs": [
    {
     "data": {
      "text/html": [
       "<div>\n",
       "<style scoped>\n",
       "    .dataframe tbody tr th:only-of-type {\n",
       "        vertical-align: middle;\n",
       "    }\n",
       "\n",
       "    .dataframe tbody tr th {\n",
       "        vertical-align: top;\n",
       "    }\n",
       "\n",
       "    .dataframe thead th {\n",
       "        text-align: right;\n",
       "    }\n",
       "</style>\n",
       "<table border=\"1\" class=\"dataframe\">\n",
       "  <thead>\n",
       "    <tr style=\"text-align: right;\">\n",
       "      <th></th>\n",
       "      <th>Total_Value</th>\n",
       "    </tr>\n",
       "    <tr>\n",
       "      <th>Product</th>\n",
       "      <th></th>\n",
       "    </tr>\n",
       "  </thead>\n",
       "  <tbody>\n",
       "    <tr>\n",
       "      <th>onto</th>\n",
       "      <td>198229307.0</td>\n",
       "    </tr>\n",
       "    <tr>\n",
       "      <th>administration</th>\n",
       "      <td>187843822.0</td>\n",
       "    </tr>\n",
       "    <tr>\n",
       "      <th>fast</th>\n",
       "      <td>166754552.0</td>\n",
       "    </tr>\n",
       "    <tr>\n",
       "      <th>three</th>\n",
       "      <td>165838648.0</td>\n",
       "    </tr>\n",
       "    <tr>\n",
       "      <th>together</th>\n",
       "      <td>160434872.0</td>\n",
       "    </tr>\n",
       "    <tr>\n",
       "      <th>beyond</th>\n",
       "      <td>156714048.0</td>\n",
       "    </tr>\n",
       "    <tr>\n",
       "      <th>bank</th>\n",
       "      <td>152633463.0</td>\n",
       "    </tr>\n",
       "    <tr>\n",
       "      <th>Mr</th>\n",
       "      <td>152523406.0</td>\n",
       "    </tr>\n",
       "    <tr>\n",
       "      <th>receive</th>\n",
       "      <td>150787410.0</td>\n",
       "    </tr>\n",
       "    <tr>\n",
       "      <th>in</th>\n",
       "      <td>145510544.0</td>\n",
       "    </tr>\n",
       "  </tbody>\n",
       "</table>\n",
       "</div>"
      ],
      "text/plain": [
       "                Total_Value\n",
       "Product                    \n",
       "onto            198229307.0\n",
       "administration  187843822.0\n",
       "fast            166754552.0\n",
       "three           165838648.0\n",
       "together        160434872.0\n",
       "beyond          156714048.0\n",
       "bank            152633463.0\n",
       "Mr              152523406.0\n",
       "receive         150787410.0\n",
       "in              145510544.0"
      ]
     },
     "execution_count": 100,
     "metadata": {},
     "output_type": "execute_result"
    }
   ],
   "source": [
    "# Top 10 Products Produced\n",
    "\n",
    "Max_exported_prod = export_sample.groupby('Product')[['Total_Value']].sum().sort_values(by='Total_Value', ascending=False)\n",
    "Max_exported_prod.head(n=10)"
   ]
  },
  {
   "cell_type": "markdown",
   "id": "e7cfbb09",
   "metadata": {},
   "source": [
    "#### B. Temporal Trends (Yearly/Monthly Trends)"
   ]
  },
  {
   "cell_type": "code",
   "execution_count": 101,
   "id": "0e616313",
   "metadata": {
    "scrolled": true
   },
   "outputs": [
    {
     "data": {
      "text/html": [
       "<div>\n",
       "<style scoped>\n",
       "    .dataframe tbody tr th:only-of-type {\n",
       "        vertical-align: middle;\n",
       "    }\n",
       "\n",
       "    .dataframe tbody tr th {\n",
       "        vertical-align: top;\n",
       "    }\n",
       "\n",
       "    .dataframe thead th {\n",
       "        text-align: right;\n",
       "    }\n",
       "</style>\n",
       "<table border=\"1\" class=\"dataframe\">\n",
       "  <thead>\n",
       "    <tr style=\"text-align: right;\">\n",
       "      <th></th>\n",
       "      <th>Total_Value</th>\n",
       "    </tr>\n",
       "    <tr>\n",
       "      <th>Year</th>\n",
       "      <th></th>\n",
       "    </tr>\n",
       "  </thead>\n",
       "  <tbody>\n",
       "    <tr>\n",
       "      <th>2021</th>\n",
       "      <td>5.272378e+09</td>\n",
       "    </tr>\n",
       "    <tr>\n",
       "      <th>2023</th>\n",
       "      <td>5.120668e+09</td>\n",
       "    </tr>\n",
       "    <tr>\n",
       "      <th>2020</th>\n",
       "      <td>5.070397e+09</td>\n",
       "    </tr>\n",
       "    <tr>\n",
       "      <th>2022</th>\n",
       "      <td>4.839864e+09</td>\n",
       "    </tr>\n",
       "    <tr>\n",
       "      <th>2024</th>\n",
       "      <td>3.118735e+09</td>\n",
       "    </tr>\n",
       "    <tr>\n",
       "      <th>2019</th>\n",
       "      <td>1.194756e+09</td>\n",
       "    </tr>\n",
       "  </tbody>\n",
       "</table>\n",
       "</div>"
      ],
      "text/plain": [
       "       Total_Value\n",
       "Year              \n",
       "2021  5.272378e+09\n",
       "2023  5.120668e+09\n",
       "2020  5.070397e+09\n",
       "2022  4.839864e+09\n",
       "2024  3.118735e+09\n",
       "2019  1.194756e+09"
      ]
     },
     "execution_count": 101,
     "metadata": {},
     "output_type": "execute_result"
    }
   ],
   "source": [
    "# Yearly Exports Volume in Descreasing Order (Highest to Lowest)\n",
    "\n",
    "export_sample = export_sample.copy()\n",
    "export_sample['Date'] = pd.to_datetime(export_sample['Date'], dayfirst=True, errors='coerce')\n",
    "#errors = 'coerce' helps handle invalid date errors by replacing the value with NaT (Not a Time)\n",
    "export_sample.loc[:, 'Year'] = export_sample['Date'].dt.year\n",
    "yearly_trends = export_sample.groupby('Year')[['Total_Value']].sum().sort_values(by = 'Total_Value',ascending=False)\n",
    "yearly_trends"
   ]
  },
  {
   "cell_type": "code",
   "execution_count": 102,
   "id": "5d44b438",
   "metadata": {},
   "outputs": [
    {
     "data": {
      "text/html": [
       "<div>\n",
       "<style scoped>\n",
       "    .dataframe tbody tr th:only-of-type {\n",
       "        vertical-align: middle;\n",
       "    }\n",
       "\n",
       "    .dataframe tbody tr th {\n",
       "        vertical-align: top;\n",
       "    }\n",
       "\n",
       "    .dataframe thead th {\n",
       "        text-align: right;\n",
       "    }\n",
       "</style>\n",
       "<table border=\"1\" class=\"dataframe\">\n",
       "  <thead>\n",
       "    <tr style=\"text-align: right;\">\n",
       "      <th></th>\n",
       "      <th>Total_Value</th>\n",
       "    </tr>\n",
       "    <tr>\n",
       "      <th>Year</th>\n",
       "      <th></th>\n",
       "    </tr>\n",
       "  </thead>\n",
       "  <tbody>\n",
       "    <tr>\n",
       "      <th>2022</th>\n",
       "      <td>6.026617e+09</td>\n",
       "    </tr>\n",
       "    <tr>\n",
       "      <th>2020</th>\n",
       "      <td>5.133057e+09</td>\n",
       "    </tr>\n",
       "    <tr>\n",
       "      <th>2021</th>\n",
       "      <td>5.003219e+09</td>\n",
       "    </tr>\n",
       "    <tr>\n",
       "      <th>2023</th>\n",
       "      <td>4.847689e+09</td>\n",
       "    </tr>\n",
       "    <tr>\n",
       "      <th>2024</th>\n",
       "      <td>3.512205e+09</td>\n",
       "    </tr>\n",
       "    <tr>\n",
       "      <th>2019</th>\n",
       "      <td>1.512159e+09</td>\n",
       "    </tr>\n",
       "  </tbody>\n",
       "</table>\n",
       "</div>"
      ],
      "text/plain": [
       "       Total_Value\n",
       "Year              \n",
       "2022  6.026617e+09\n",
       "2020  5.133057e+09\n",
       "2021  5.003219e+09\n",
       "2023  4.847689e+09\n",
       "2024  3.512205e+09\n",
       "2019  1.512159e+09"
      ]
     },
     "execution_count": 102,
     "metadata": {},
     "output_type": "execute_result"
    }
   ],
   "source": [
    "# Yearly Imports Volume in (Max to Min)\n",
    "\n",
    "#errors = 'coerce' helps handle invalid date errors by replacing the value with NaT (Not a Time)\n",
    "import_sample = import_sample.copy()\n",
    "import_sample['Date'] = pd.to_datetime(import_sample['Date'], dayfirst=True, errors='coerce')\n",
    "import_sample.loc[:, 'Year'] = import_sample['Date'].dt.year\n",
    "yearly_trends_imports = import_sample.groupby('Year')[['Total_Value']].sum().sort_values(by = 'Total_Value',ascending=False)\n",
    "yearly_trends_imports"
   ]
  },
  {
   "cell_type": "code",
   "execution_count": 103,
   "id": "a9b555dd",
   "metadata": {},
   "outputs": [
    {
     "data": {
      "text/html": [
       "<div>\n",
       "<style scoped>\n",
       "    .dataframe tbody tr th:only-of-type {\n",
       "        vertical-align: middle;\n",
       "    }\n",
       "\n",
       "    .dataframe tbody tr th {\n",
       "        vertical-align: top;\n",
       "    }\n",
       "\n",
       "    .dataframe thead th {\n",
       "        text-align: right;\n",
       "    }\n",
       "</style>\n",
       "<table border=\"1\" class=\"dataframe\">\n",
       "  <thead>\n",
       "    <tr style=\"text-align: right;\">\n",
       "      <th></th>\n",
       "      <th>Total_Value</th>\n",
       "    </tr>\n",
       "    <tr>\n",
       "      <th>Month</th>\n",
       "      <th></th>\n",
       "    </tr>\n",
       "  </thead>\n",
       "  <tbody>\n",
       "    <tr>\n",
       "      <th>2022-08</th>\n",
       "      <td>757535876.0</td>\n",
       "    </tr>\n",
       "    <tr>\n",
       "      <th>2022-03</th>\n",
       "      <td>688584591.0</td>\n",
       "    </tr>\n",
       "    <tr>\n",
       "      <th>2021-03</th>\n",
       "      <td>649563322.0</td>\n",
       "    </tr>\n",
       "    <tr>\n",
       "      <th>2019-12</th>\n",
       "      <td>642262340.0</td>\n",
       "    </tr>\n",
       "    <tr>\n",
       "      <th>2022-05</th>\n",
       "      <td>615447736.0</td>\n",
       "    </tr>\n",
       "  </tbody>\n",
       "</table>\n",
       "</div>"
      ],
      "text/plain": [
       "         Total_Value\n",
       "Month               \n",
       "2022-08  757535876.0\n",
       "2022-03  688584591.0\n",
       "2021-03  649563322.0\n",
       "2019-12  642262340.0\n",
       "2022-05  615447736.0"
      ]
     },
     "execution_count": 103,
     "metadata": {},
     "output_type": "execute_result"
    }
   ],
   "source": [
    "# Top 5 Months with highest volume of Imports\n",
    "\n",
    "import_sample['Month'] = import_sample['Date'].dt.to_period('M')\n",
    "monthly_trends = import_sample.groupby('Month')[['Total_Value']].sum().sort_values(by = 'Total_Value',ascending=False)\n",
    "monthly_trends.head(5)"
   ]
  },
  {
   "cell_type": "markdown",
   "id": "e1ed812d",
   "metadata": {},
   "source": [
    "#### C. Geographical Trade Patterns"
   ]
  },
  {
   "cell_type": "code",
   "execution_count": 104,
   "id": "bad137e6",
   "metadata": {},
   "outputs": [
    {
     "data": {
      "text/html": [
       "<div>\n",
       "<style scoped>\n",
       "    .dataframe tbody tr th:only-of-type {\n",
       "        vertical-align: middle;\n",
       "    }\n",
       "\n",
       "    .dataframe tbody tr th {\n",
       "        vertical-align: top;\n",
       "    }\n",
       "\n",
       "    .dataframe thead th {\n",
       "        text-align: right;\n",
       "    }\n",
       "</style>\n",
       "<table border=\"1\" class=\"dataframe\">\n",
       "  <thead>\n",
       "    <tr style=\"text-align: right;\">\n",
       "      <th></th>\n",
       "      <th>Total_Value</th>\n",
       "    </tr>\n",
       "    <tr>\n",
       "      <th>Country</th>\n",
       "      <th></th>\n",
       "    </tr>\n",
       "  </thead>\n",
       "  <tbody>\n",
       "    <tr>\n",
       "      <th>Bahrain</th>\n",
       "      <td>462614400.0</td>\n",
       "    </tr>\n",
       "    <tr>\n",
       "      <th>Brazil</th>\n",
       "      <td>352224652.0</td>\n",
       "    </tr>\n",
       "    <tr>\n",
       "      <th>Belarus</th>\n",
       "      <td>343154718.0</td>\n",
       "    </tr>\n",
       "    <tr>\n",
       "      <th>Chad</th>\n",
       "      <td>335824117.0</td>\n",
       "    </tr>\n",
       "    <tr>\n",
       "      <th>Cuba</th>\n",
       "      <td>265570651.0</td>\n",
       "    </tr>\n",
       "    <tr>\n",
       "      <th>Costa Rica</th>\n",
       "      <td>259109571.0</td>\n",
       "    </tr>\n",
       "    <tr>\n",
       "      <th>Svalbard &amp; Jan Mayen Islands</th>\n",
       "      <td>258667524.0</td>\n",
       "    </tr>\n",
       "    <tr>\n",
       "      <th>Mexico</th>\n",
       "      <td>257490126.0</td>\n",
       "    </tr>\n",
       "    <tr>\n",
       "      <th>Guinea-Bissau</th>\n",
       "      <td>256621335.0</td>\n",
       "    </tr>\n",
       "    <tr>\n",
       "      <th>Barbados</th>\n",
       "      <td>249534128.0</td>\n",
       "    </tr>\n",
       "  </tbody>\n",
       "</table>\n",
       "</div>"
      ],
      "text/plain": [
       "                              Total_Value\n",
       "Country                                  \n",
       "Bahrain                       462614400.0\n",
       "Brazil                        352224652.0\n",
       "Belarus                       343154718.0\n",
       "Chad                          335824117.0\n",
       "Cuba                          265570651.0\n",
       "Costa Rica                    259109571.0\n",
       "Svalbard & Jan Mayen Islands  258667524.0\n",
       "Mexico                        257490126.0\n",
       "Guinea-Bissau                 256621335.0\n",
       "Barbados                      249534128.0"
      ]
     },
     "execution_count": 104,
     "metadata": {},
     "output_type": "execute_result"
    }
   ],
   "source": [
    "# Top 10 Countries Importing the highest valued goods [Maximum Amount spent on Goods Imported into the Country]\n",
    "\n",
    "import_sample.groupby('Country')[['Total_Value']].sum().sort_values(by='Total_Value', ascending=False).head(10)"
   ]
  },
  {
   "cell_type": "code",
   "execution_count": 105,
   "id": "c127a718",
   "metadata": {},
   "outputs": [
    {
     "data": {
      "text/html": [
       "<div>\n",
       "<style scoped>\n",
       "    .dataframe tbody tr th:only-of-type {\n",
       "        vertical-align: middle;\n",
       "    }\n",
       "\n",
       "    .dataframe tbody tr th {\n",
       "        vertical-align: top;\n",
       "    }\n",
       "\n",
       "    .dataframe thead th {\n",
       "        text-align: right;\n",
       "    }\n",
       "</style>\n",
       "<table border=\"1\" class=\"dataframe\">\n",
       "  <thead>\n",
       "    <tr style=\"text-align: right;\">\n",
       "      <th></th>\n",
       "      <th>Total_Value</th>\n",
       "    </tr>\n",
       "    <tr>\n",
       "      <th>Country</th>\n",
       "      <th></th>\n",
       "    </tr>\n",
       "  </thead>\n",
       "  <tbody>\n",
       "    <tr>\n",
       "      <th>India</th>\n",
       "      <td>437500308.0</td>\n",
       "    </tr>\n",
       "    <tr>\n",
       "      <th>Congo</th>\n",
       "      <td>419585262.0</td>\n",
       "    </tr>\n",
       "    <tr>\n",
       "      <th>Maldives</th>\n",
       "      <td>371578477.0</td>\n",
       "    </tr>\n",
       "    <tr>\n",
       "      <th>Kiribati</th>\n",
       "      <td>342040184.0</td>\n",
       "    </tr>\n",
       "    <tr>\n",
       "      <th>Czech Republic</th>\n",
       "      <td>290887468.0</td>\n",
       "    </tr>\n",
       "    <tr>\n",
       "      <th>Brazil</th>\n",
       "      <td>263285321.0</td>\n",
       "    </tr>\n",
       "    <tr>\n",
       "      <th>Liechtenstein</th>\n",
       "      <td>247446342.0</td>\n",
       "    </tr>\n",
       "    <tr>\n",
       "      <th>Palestinian Territory</th>\n",
       "      <td>242195253.0</td>\n",
       "    </tr>\n",
       "    <tr>\n",
       "      <th>Korea</th>\n",
       "      <td>241147261.0</td>\n",
       "    </tr>\n",
       "    <tr>\n",
       "      <th>Japan</th>\n",
       "      <td>238520707.0</td>\n",
       "    </tr>\n",
       "  </tbody>\n",
       "</table>\n",
       "</div>"
      ],
      "text/plain": [
       "                       Total_Value\n",
       "Country                           \n",
       "India                  437500308.0\n",
       "Congo                  419585262.0\n",
       "Maldives               371578477.0\n",
       "Kiribati               342040184.0\n",
       "Czech Republic         290887468.0\n",
       "Brazil                 263285321.0\n",
       "Liechtenstein          247446342.0\n",
       "Palestinian Territory  242195253.0\n",
       "Korea                  241147261.0\n",
       "Japan                  238520707.0"
      ]
     },
     "execution_count": 105,
     "metadata": {},
     "output_type": "execute_result"
    }
   ],
   "source": [
    "# Top 10 Countries Exporting the highest Valued goods [Maximum weath generation by Exports]\n",
    "\n",
    "export_sample.groupby('Country')[['Total_Value']].sum().sort_values(by='Total_Value', ascending=False).head(10)"
   ]
  },
  {
   "cell_type": "markdown",
   "id": "49cb55ae",
   "metadata": {},
   "source": [
    "#### D. Supplier Behavior"
   ]
  },
  {
   "cell_type": "code",
   "execution_count": 106,
   "id": "941c377c",
   "metadata": {
    "scrolled": true
   },
   "outputs": [
    {
     "data": {
      "text/html": [
       "<div>\n",
       "<style scoped>\n",
       "    .dataframe tbody tr th:only-of-type {\n",
       "        vertical-align: middle;\n",
       "    }\n",
       "\n",
       "    .dataframe tbody tr th {\n",
       "        vertical-align: top;\n",
       "    }\n",
       "\n",
       "    .dataframe thead th {\n",
       "        text-align: right;\n",
       "    }\n",
       "</style>\n",
       "<table border=\"1\" class=\"dataframe\">\n",
       "  <thead>\n",
       "    <tr style=\"text-align: right;\">\n",
       "      <th></th>\n",
       "      <th>Total_Value</th>\n",
       "    </tr>\n",
       "    <tr>\n",
       "      <th>Supplier</th>\n",
       "      <th></th>\n",
       "    </tr>\n",
       "  </thead>\n",
       "  <tbody>\n",
       "    <tr>\n",
       "      <th>Wright Group</th>\n",
       "      <td>129389112.0</td>\n",
       "    </tr>\n",
       "    <tr>\n",
       "      <th>Brown PLC</th>\n",
       "      <td>119468701.0</td>\n",
       "    </tr>\n",
       "    <tr>\n",
       "      <th>Hall Ltd</th>\n",
       "      <td>98236675.0</td>\n",
       "    </tr>\n",
       "    <tr>\n",
       "      <th>Proctor-Miranda</th>\n",
       "      <td>93508430.0</td>\n",
       "    </tr>\n",
       "    <tr>\n",
       "      <th>Carter Ltd</th>\n",
       "      <td>91149507.0</td>\n",
       "    </tr>\n",
       "    <tr>\n",
       "      <th>Jones, Campos and Williams</th>\n",
       "      <td>89866258.0</td>\n",
       "    </tr>\n",
       "    <tr>\n",
       "      <th>Jackson, Sherman and Proctor</th>\n",
       "      <td>89045170.0</td>\n",
       "    </tr>\n",
       "    <tr>\n",
       "      <th>Warren LLC</th>\n",
       "      <td>87747211.0</td>\n",
       "    </tr>\n",
       "    <tr>\n",
       "      <th>Campbell-Luna</th>\n",
       "      <td>87445925.0</td>\n",
       "    </tr>\n",
       "    <tr>\n",
       "      <th>Norris and Sons</th>\n",
       "      <td>86267244.0</td>\n",
       "    </tr>\n",
       "  </tbody>\n",
       "</table>\n",
       "</div>"
      ],
      "text/plain": [
       "                              Total_Value\n",
       "Supplier                                 \n",
       "Wright Group                  129389112.0\n",
       "Brown PLC                     119468701.0\n",
       "Hall Ltd                       98236675.0\n",
       "Proctor-Miranda                93508430.0\n",
       "Carter Ltd                     91149507.0\n",
       "Jones, Campos and Williams     89866258.0\n",
       "Jackson, Sherman and Proctor   89045170.0\n",
       "Warren LLC                     87747211.0\n",
       "Campbell-Luna                  87445925.0\n",
       "Norris and Sons                86267244.0"
      ]
     },
     "execution_count": 106,
     "metadata": {},
     "output_type": "execute_result"
    }
   ],
   "source": [
    "# Top 10 Global Suppliers Exporting their Products, estimated by Wealth Generated\n",
    "\n",
    "export_sample.groupby('Supplier')[['Total_Value']].sum().sort_values(by='Total_Value', ascending=False).head(10)"
   ]
  },
  {
   "cell_type": "markdown",
   "id": "c487cd0d",
   "metadata": {},
   "source": [
    "#### E. Trade Performance (Evaluated based on Country)"
   ]
  },
  {
   "cell_type": "code",
   "execution_count": 107,
   "id": "4a251737",
   "metadata": {
    "scrolled": true
   },
   "outputs": [],
   "source": [
    "trade_balance = my_sample.groupby(['Country', 'Import_Export'])[['Total_Value']].sum().unstack().fillna(0)\n",
    "trade_balance.columns = ['Import_Total_Value', 'Export_Total_Value']\n",
    "trade_balance['Trade_Balance'] = trade_balance['Export_Total_Value'] - trade_balance['Import_Total_Value']\n",
    "#trade_balance.head(n=5)"
   ]
  },
  {
   "cell_type": "markdown",
   "id": "6c79fc02",
   "metadata": {},
   "source": [
    "*A positive trade balance represents that the particular country exports more than it imports, and vice-a-versa for Countries with negative Trade Balance*"
   ]
  },
  {
   "cell_type": "code",
   "execution_count": 108,
   "id": "1d413d9b",
   "metadata": {
    "scrolled": true
   },
   "outputs": [
    {
     "data": {
      "text/html": [
       "<div>\n",
       "<style scoped>\n",
       "    .dataframe tbody tr th:only-of-type {\n",
       "        vertical-align: middle;\n",
       "    }\n",
       "\n",
       "    .dataframe tbody tr th {\n",
       "        vertical-align: top;\n",
       "    }\n",
       "\n",
       "    .dataframe thead th {\n",
       "        text-align: right;\n",
       "    }\n",
       "</style>\n",
       "<table border=\"1\" class=\"dataframe\">\n",
       "  <thead>\n",
       "    <tr style=\"text-align: right;\">\n",
       "      <th></th>\n",
       "      <th>Import_Total_Value</th>\n",
       "      <th>Export_Total_Value</th>\n",
       "      <th>Trade_Balance</th>\n",
       "    </tr>\n",
       "    <tr>\n",
       "      <th>Country</th>\n",
       "      <th></th>\n",
       "      <th></th>\n",
       "      <th></th>\n",
       "    </tr>\n",
       "  </thead>\n",
       "  <tbody>\n",
       "    <tr>\n",
       "      <th>Bahrain</th>\n",
       "      <td>108558544.0</td>\n",
       "      <td>462614400.0</td>\n",
       "      <td>354055856.0</td>\n",
       "    </tr>\n",
       "    <tr>\n",
       "      <th>Chad</th>\n",
       "      <td>48078097.0</td>\n",
       "      <td>335824117.0</td>\n",
       "      <td>287746020.0</td>\n",
       "    </tr>\n",
       "    <tr>\n",
       "      <th>Belarus</th>\n",
       "      <td>69956140.0</td>\n",
       "      <td>343154718.0</td>\n",
       "      <td>273198578.0</td>\n",
       "    </tr>\n",
       "    <tr>\n",
       "      <th>Cook Islands</th>\n",
       "      <td>19421476.0</td>\n",
       "      <td>243969513.0</td>\n",
       "      <td>224548037.0</td>\n",
       "    </tr>\n",
       "    <tr>\n",
       "      <th>Philippines</th>\n",
       "      <td>8828936.0</td>\n",
       "      <td>222085358.0</td>\n",
       "      <td>213256422.0</td>\n",
       "    </tr>\n",
       "  </tbody>\n",
       "</table>\n",
       "</div>"
      ],
      "text/plain": [
       "              Import_Total_Value  Export_Total_Value  Trade_Balance\n",
       "Country                                                            \n",
       "Bahrain              108558544.0         462614400.0    354055856.0\n",
       "Chad                  48078097.0         335824117.0    287746020.0\n",
       "Belarus               69956140.0         343154718.0    273198578.0\n",
       "Cook Islands          19421476.0         243969513.0    224548037.0\n",
       "Philippines            8828936.0         222085358.0    213256422.0"
      ]
     },
     "execution_count": 108,
     "metadata": {},
     "output_type": "execute_result"
    }
   ],
   "source": [
    "# Top 5 Countries with Maximum Trade Balance\n",
    "\n",
    "trade_balance.sort_values(by=\"Trade_Balance\",ascending=False).head(5)"
   ]
  },
  {
   "cell_type": "code",
   "execution_count": 109,
   "id": "15cba651",
   "metadata": {},
   "outputs": [
    {
     "data": {
      "text/html": [
       "<div>\n",
       "<style scoped>\n",
       "    .dataframe tbody tr th:only-of-type {\n",
       "        vertical-align: middle;\n",
       "    }\n",
       "\n",
       "    .dataframe tbody tr th {\n",
       "        vertical-align: top;\n",
       "    }\n",
       "\n",
       "    .dataframe thead th {\n",
       "        text-align: right;\n",
       "    }\n",
       "</style>\n",
       "<table border=\"1\" class=\"dataframe\">\n",
       "  <thead>\n",
       "    <tr style=\"text-align: right;\">\n",
       "      <th></th>\n",
       "      <th>Import_Total_Value</th>\n",
       "      <th>Export_Total_Value</th>\n",
       "      <th>Trade_Balance</th>\n",
       "    </tr>\n",
       "    <tr>\n",
       "      <th>Country</th>\n",
       "      <th></th>\n",
       "      <th></th>\n",
       "      <th></th>\n",
       "    </tr>\n",
       "  </thead>\n",
       "  <tbody>\n",
       "    <tr>\n",
       "      <th>Congo</th>\n",
       "      <td>419585262.0</td>\n",
       "      <td>78771069.0</td>\n",
       "      <td>-340814193.0</td>\n",
       "    </tr>\n",
       "    <tr>\n",
       "      <th>India</th>\n",
       "      <td>437500308.0</td>\n",
       "      <td>102938641.0</td>\n",
       "      <td>-334561667.0</td>\n",
       "    </tr>\n",
       "    <tr>\n",
       "      <th>Kiribati</th>\n",
       "      <td>342040184.0</td>\n",
       "      <td>60674565.0</td>\n",
       "      <td>-281365619.0</td>\n",
       "    </tr>\n",
       "    <tr>\n",
       "      <th>Japan</th>\n",
       "      <td>238520707.0</td>\n",
       "      <td>22360134.0</td>\n",
       "      <td>-216160573.0</td>\n",
       "    </tr>\n",
       "    <tr>\n",
       "      <th>Togo</th>\n",
       "      <td>220903877.0</td>\n",
       "      <td>7490949.0</td>\n",
       "      <td>-213412928.0</td>\n",
       "    </tr>\n",
       "  </tbody>\n",
       "</table>\n",
       "</div>"
      ],
      "text/plain": [
       "          Import_Total_Value  Export_Total_Value  Trade_Balance\n",
       "Country                                                        \n",
       "Congo            419585262.0          78771069.0   -340814193.0\n",
       "India            437500308.0         102938641.0   -334561667.0\n",
       "Kiribati         342040184.0          60674565.0   -281365619.0\n",
       "Japan            238520707.0          22360134.0   -216160573.0\n",
       "Togo             220903877.0           7490949.0   -213412928.0"
      ]
     },
     "execution_count": 109,
     "metadata": {},
     "output_type": "execute_result"
    }
   ],
   "source": [
    "#Top 5 Countries Importing More than they Export\n",
    "\n",
    "trade_balance.sort_values(by=\"Trade_Balance\").head(5)"
   ]
  },
  {
   "cell_type": "markdown",
   "id": "5993b3bc",
   "metadata": {},
   "source": [
    "#### F. Cost and Revenue Analysis"
   ]
  },
  {
   "cell_type": "code",
   "execution_count": 110,
   "id": "bc953acd",
   "metadata": {},
   "outputs": [
    {
     "name": "stdout",
     "output_type": "stream",
     "text": [
      "Average Trade Value per Transaction: $5057.81\n"
     ]
    }
   ],
   "source": [
    "# Average Trade Value (Combined for Imported an Exported Products)\n",
    "\n",
    "average_value_per_transaction = my_sample['Value'].mean()\n",
    "print(f\"Average Trade Value per Transaction: ${round(average_value_per_transaction,2)}\")"
   ]
  },
  {
   "cell_type": "code",
   "execution_count": 111,
   "id": "50515973",
   "metadata": {},
   "outputs": [
    {
     "data": {
      "text/plain": [
       "Product\n",
       "need         1720.598000\n",
       "everybody     219.208837\n",
       "instead       153.331759\n",
       "suddenly       96.101874\n",
       "everyone       88.920656\n",
       "let            85.361083\n",
       "look           82.723503\n",
       "southern       75.607608\n",
       "early          42.629813\n",
       "less           39.881519\n",
       "Name: Value_per_Unit, dtype: float64"
      ]
     },
     "execution_count": 111,
     "metadata": {},
     "output_type": "execute_result"
    }
   ],
   "source": [
    "# Average Value per Unit Analysis\n",
    "\n",
    "my_sample['Value_per_Unit'] = my_sample['Value'] / my_sample['Quantity']\n",
    "my_sample.groupby('Product')['Value_per_Unit'].mean().sort_values(ascending=False).head(10)"
   ]
  },
  {
   "cell_type": "markdown",
   "id": "6219b011",
   "metadata": {},
   "source": [
    "#### G. Shipping and Logistics Analysis"
   ]
  },
  {
   "cell_type": "code",
   "execution_count": 112,
   "id": "4138976d",
   "metadata": {},
   "outputs": [
    {
     "data": {
      "text/plain": [
       "Air     350\n",
       "Sea     340\n",
       "Land    298\n",
       "Name: Shipping_Method, dtype: int64"
      ]
     },
     "execution_count": 112,
     "metadata": {},
     "output_type": "execute_result"
    }
   ],
   "source": [
    "# Shipping Method Preferences for Exported Goods\n",
    "\n",
    "export_sample['Shipping_Method'].value_counts()"
   ]
  },
  {
   "cell_type": "code",
   "execution_count": 113,
   "id": "9e67c22f",
   "metadata": {},
   "outputs": [
    {
     "data": {
      "text/plain": [
       "Air     345\n",
       "Land    343\n",
       "Sea     325\n",
       "Name: Shipping_Method, dtype: int64"
      ]
     },
     "execution_count": 113,
     "metadata": {},
     "output_type": "execute_result"
    }
   ],
   "source": [
    "# Shipping Method Preferences for Imported Goods\n",
    "\n",
    "import_sample['Shipping_Method'].value_counts()"
   ]
  },
  {
   "cell_type": "code",
   "execution_count": 114,
   "id": "6c162ebf",
   "metadata": {},
   "outputs": [
    {
     "data": {
      "text/html": [
       "<div>\n",
       "<style scoped>\n",
       "    .dataframe tbody tr th:only-of-type {\n",
       "        vertical-align: middle;\n",
       "    }\n",
       "\n",
       "    .dataframe tbody tr th {\n",
       "        vertical-align: top;\n",
       "    }\n",
       "\n",
       "    .dataframe thead th {\n",
       "        text-align: right;\n",
       "    }\n",
       "</style>\n",
       "<table border=\"1\" class=\"dataframe\">\n",
       "  <thead>\n",
       "    <tr style=\"text-align: right;\">\n",
       "      <th></th>\n",
       "      <th>Weight</th>\n",
       "    </tr>\n",
       "    <tr>\n",
       "      <th>Shipping_Method</th>\n",
       "      <th></th>\n",
       "    </tr>\n",
       "  </thead>\n",
       "  <tbody>\n",
       "    <tr>\n",
       "      <th>Air</th>\n",
       "      <td>2527.548609</td>\n",
       "    </tr>\n",
       "    <tr>\n",
       "      <th>Land</th>\n",
       "      <td>2539.885481</td>\n",
       "    </tr>\n",
       "    <tr>\n",
       "      <th>Sea</th>\n",
       "      <td>2431.843569</td>\n",
       "    </tr>\n",
       "  </tbody>\n",
       "</table>\n",
       "</div>"
      ],
      "text/plain": [
       "                      Weight\n",
       "Shipping_Method             \n",
       "Air              2527.548609\n",
       "Land             2539.885481\n",
       "Sea              2431.843569"
      ]
     },
     "execution_count": 114,
     "metadata": {},
     "output_type": "execute_result"
    }
   ],
   "source": [
    "# Shipping Costs vs Product Value [imported Products]\n",
    "\n",
    "import_sample.groupby('Shipping_Method')[['Weight']].mean()"
   ]
  },
  {
   "cell_type": "code",
   "execution_count": 115,
   "id": "0bfe075e",
   "metadata": {},
   "outputs": [
    {
     "data": {
      "text/html": [
       "<div>\n",
       "<style scoped>\n",
       "    .dataframe tbody tr th:only-of-type {\n",
       "        vertical-align: middle;\n",
       "    }\n",
       "\n",
       "    .dataframe tbody tr th {\n",
       "        vertical-align: top;\n",
       "    }\n",
       "\n",
       "    .dataframe thead th {\n",
       "        text-align: right;\n",
       "    }\n",
       "</style>\n",
       "<table border=\"1\" class=\"dataframe\">\n",
       "  <thead>\n",
       "    <tr style=\"text-align: right;\">\n",
       "      <th></th>\n",
       "      <th>Weight</th>\n",
       "    </tr>\n",
       "    <tr>\n",
       "      <th>Shipping_Method</th>\n",
       "      <th></th>\n",
       "    </tr>\n",
       "  </thead>\n",
       "  <tbody>\n",
       "    <tr>\n",
       "      <th>Air</th>\n",
       "      <td>2567.510158</td>\n",
       "    </tr>\n",
       "    <tr>\n",
       "      <th>Land</th>\n",
       "      <td>2521.948284</td>\n",
       "    </tr>\n",
       "    <tr>\n",
       "      <th>Sea</th>\n",
       "      <td>2452.098361</td>\n",
       "    </tr>\n",
       "  </tbody>\n",
       "</table>\n",
       "</div>"
      ],
      "text/plain": [
       "                      Weight\n",
       "Shipping_Method             \n",
       "Air              2567.510158\n",
       "Land             2521.948284\n",
       "Sea              2452.098361"
      ]
     },
     "execution_count": 115,
     "metadata": {},
     "output_type": "execute_result"
    }
   ],
   "source": [
    "# Shipping Costs vs Product Value [Exported Products]\n",
    "\n",
    "my_sample.groupby('Shipping_Method')[['Weight']].mean()"
   ]
  },
  {
   "cell_type": "markdown",
   "id": "da27e00b",
   "metadata": {},
   "source": [
    "*Due to various country compliances, different Forex and lack of data for prices for Shipping Methods, we will assume the cost of shipping to be negligible compared to The total Product Value*"
   ]
  },
  {
   "cell_type": "markdown",
   "id": "9dbb5c07",
   "metadata": {},
   "source": [
    "#### H. Payment Term Analysis"
   ]
  },
  {
   "cell_type": "code",
   "execution_count": 116,
   "id": "2c272fb4",
   "metadata": {},
   "outputs": [
    {
     "data": {
      "text/plain": [
       "Net 60              255\n",
       "Cash on Delivery    252\n",
       "Prepaid             248\n",
       "Net 30              233\n",
       "Name: Payment_Terms, dtype: int64"
      ]
     },
     "execution_count": 116,
     "metadata": {},
     "output_type": "execute_result"
    }
   ],
   "source": [
    "# Common Payment Methods for Exported Products\n",
    "\n",
    "export_sample['Payment_Terms'].value_counts()"
   ]
  },
  {
   "cell_type": "code",
   "execution_count": 117,
   "id": "7bf31e2a",
   "metadata": {},
   "outputs": [
    {
     "data": {
      "text/plain": [
       "Cash on Delivery    270\n",
       "Prepaid             260\n",
       "Net 60              249\n",
       "Net 30              234\n",
       "Name: Payment_Terms, dtype: int64"
      ]
     },
     "execution_count": 117,
     "metadata": {},
     "output_type": "execute_result"
    }
   ],
   "source": [
    "# Common Payment Methods for Imported Products\n",
    "\n",
    "import_sample['Payment_Terms'].value_counts()"
   ]
  },
  {
   "cell_type": "code",
   "execution_count": 118,
   "id": "e0d935b0",
   "metadata": {},
   "outputs": [
    {
     "data": {
      "text/html": [
       "<div>\n",
       "<style scoped>\n",
       "    .dataframe tbody tr th:only-of-type {\n",
       "        vertical-align: middle;\n",
       "    }\n",
       "\n",
       "    .dataframe tbody tr th {\n",
       "        vertical-align: top;\n",
       "    }\n",
       "\n",
       "    .dataframe thead th {\n",
       "        text-align: right;\n",
       "    }\n",
       "</style>\n",
       "<table border=\"1\" class=\"dataframe\">\n",
       "  <thead>\n",
       "    <tr style=\"text-align: right;\">\n",
       "      <th>Payment_Terms</th>\n",
       "      <th>Cash on Delivery</th>\n",
       "      <th>Net 30</th>\n",
       "      <th>Net 60</th>\n",
       "      <th>Prepaid</th>\n",
       "    </tr>\n",
       "    <tr>\n",
       "      <th>Country</th>\n",
       "      <th></th>\n",
       "      <th></th>\n",
       "      <th></th>\n",
       "      <th></th>\n",
       "    </tr>\n",
       "  </thead>\n",
       "  <tbody>\n",
       "    <tr>\n",
       "      <th>Afghanistan</th>\n",
       "      <td>2.0</td>\n",
       "      <td>2.0</td>\n",
       "      <td>0.0</td>\n",
       "      <td>4.0</td>\n",
       "    </tr>\n",
       "    <tr>\n",
       "      <th>Albania</th>\n",
       "      <td>1.0</td>\n",
       "      <td>2.0</td>\n",
       "      <td>4.0</td>\n",
       "      <td>0.0</td>\n",
       "    </tr>\n",
       "    <tr>\n",
       "      <th>Algeria</th>\n",
       "      <td>3.0</td>\n",
       "      <td>1.0</td>\n",
       "      <td>1.0</td>\n",
       "      <td>3.0</td>\n",
       "    </tr>\n",
       "    <tr>\n",
       "      <th>American Samoa</th>\n",
       "      <td>1.0</td>\n",
       "      <td>4.0</td>\n",
       "      <td>1.0</td>\n",
       "      <td>2.0</td>\n",
       "    </tr>\n",
       "    <tr>\n",
       "      <th>Andorra</th>\n",
       "      <td>1.0</td>\n",
       "      <td>1.0</td>\n",
       "      <td>0.0</td>\n",
       "      <td>1.0</td>\n",
       "    </tr>\n",
       "    <tr>\n",
       "      <th>...</th>\n",
       "      <td>...</td>\n",
       "      <td>...</td>\n",
       "      <td>...</td>\n",
       "      <td>...</td>\n",
       "    </tr>\n",
       "    <tr>\n",
       "      <th>Wallis and Futuna</th>\n",
       "      <td>4.0</td>\n",
       "      <td>2.0</td>\n",
       "      <td>4.0</td>\n",
       "      <td>2.0</td>\n",
       "    </tr>\n",
       "    <tr>\n",
       "      <th>Western Sahara</th>\n",
       "      <td>1.0</td>\n",
       "      <td>4.0</td>\n",
       "      <td>0.0</td>\n",
       "      <td>3.0</td>\n",
       "    </tr>\n",
       "    <tr>\n",
       "      <th>Yemen</th>\n",
       "      <td>2.0</td>\n",
       "      <td>1.0</td>\n",
       "      <td>2.0</td>\n",
       "      <td>0.0</td>\n",
       "    </tr>\n",
       "    <tr>\n",
       "      <th>Zambia</th>\n",
       "      <td>2.0</td>\n",
       "      <td>3.0</td>\n",
       "      <td>4.0</td>\n",
       "      <td>4.0</td>\n",
       "    </tr>\n",
       "    <tr>\n",
       "      <th>Zimbabwe</th>\n",
       "      <td>6.0</td>\n",
       "      <td>1.0</td>\n",
       "      <td>0.0</td>\n",
       "      <td>3.0</td>\n",
       "    </tr>\n",
       "  </tbody>\n",
       "</table>\n",
       "<p>243 rows × 4 columns</p>\n",
       "</div>"
      ],
      "text/plain": [
       "Payment_Terms      Cash on Delivery  Net 30  Net 60  Prepaid\n",
       "Country                                                     \n",
       "Afghanistan                     2.0     2.0     0.0      4.0\n",
       "Albania                         1.0     2.0     4.0      0.0\n",
       "Algeria                         3.0     1.0     1.0      3.0\n",
       "American Samoa                  1.0     4.0     1.0      2.0\n",
       "Andorra                         1.0     1.0     0.0      1.0\n",
       "...                             ...     ...     ...      ...\n",
       "Wallis and Futuna               4.0     2.0     4.0      2.0\n",
       "Western Sahara                  1.0     4.0     0.0      3.0\n",
       "Yemen                           2.0     1.0     2.0      0.0\n",
       "Zambia                          2.0     3.0     4.0      4.0\n",
       "Zimbabwe                        6.0     1.0     0.0      3.0\n",
       "\n",
       "[243 rows x 4 columns]"
      ]
     },
     "execution_count": 118,
     "metadata": {},
     "output_type": "execute_result"
    }
   ],
   "source": [
    "# Payment Terms by Country (Irrespective of Exported/Imported Product)\n",
    "\n",
    "payment_terms_by_country = my_sample.groupby('Country')['Payment_Terms'].value_counts().unstack().fillna(0)\n",
    "payment_terms_by_country"
   ]
  },
  {
   "cell_type": "code",
   "execution_count": 119,
   "id": "66bf325a",
   "metadata": {
    "scrolled": true
   },
   "outputs": [
    {
     "data": {
      "text/plain": [
       "Payment_Terms\n",
       "Cash on Delivery             Bahrain\n",
       "Net 30                         India\n",
       "Net 60              Marshall Islands\n",
       "Prepaid                       Canada\n",
       "dtype: object"
      ]
     },
     "execution_count": 119,
     "metadata": {},
     "output_type": "execute_result"
    }
   ],
   "source": [
    "# Most Preffered Payment Terms by Countries\n",
    "payment_terms_by_country.idxmax()"
   ]
  },
  {
   "cell_type": "code",
   "execution_count": 120,
   "id": "333a85a4",
   "metadata": {},
   "outputs": [
    {
     "data": {
      "text/plain": [
       "Payment_Terms\n",
       "Cash on Delivery          Benin\n",
       "Net 30                   Bhutan\n",
       "Net 60              Afghanistan\n",
       "Prepaid                 Albania\n",
       "dtype: object"
      ]
     },
     "execution_count": 120,
     "metadata": {},
     "output_type": "execute_result"
    }
   ],
   "source": [
    "# Least Preffered Payment Terms by Countries\n",
    "payment_terms_by_country.idxmin()"
   ]
  },
  {
   "cell_type": "code",
   "execution_count": 121,
   "id": "0174edfd",
   "metadata": {},
   "outputs": [
    {
     "data": {
      "text/plain": [
       "1.8490374873353597"
      ]
     },
     "execution_count": 121,
     "metadata": {},
     "output_type": "execute_result"
    }
   ],
   "source": [
    "# Time Between Orders\n",
    "export_sample['Date'] = pd.to_datetime(export_sample['Date'])\n",
    "export_sample = export_sample.sort_values(by='Date')\n",
    "export_sample['Time_Between_Orders'] = export_sample['Date'].diff().dt.days\n",
    "export_sample['Time_Between_Orders'].mean()"
   ]
  },
  {
   "cell_type": "code",
   "execution_count": 122,
   "id": "aeb3daf9",
   "metadata": {},
   "outputs": [
    {
     "data": {
      "text/plain": [
       "1.8033596837944663"
      ]
     },
     "execution_count": 122,
     "metadata": {},
     "output_type": "execute_result"
    }
   ],
   "source": [
    "import_sample['Date'] = pd.to_datetime(import_sample['Date'])\n",
    "import_sample = import_sample.sort_values(by='Date')\n",
    "import_sample['Time_Between_Orders'] = import_sample['Date'].diff().dt.days\n",
    "import_sample['Time_Between_Orders'].mean()"
   ]
  },
  {
   "cell_type": "markdown",
   "id": "94b1f408",
   "metadata": {},
   "source": [
    "---> Comparabily Similar Times for both data"
   ]
  },
  {
   "cell_type": "markdown",
   "id": "d3cf44ad",
   "metadata": {},
   "source": [
    "--- End of Project ---"
   ]
  },
  {
   "cell_type": "markdown",
   "id": "92ace20e",
   "metadata": {},
   "source": [
    "---"
   ]
  }
 ],
 "metadata": {
  "kernelspec": {
   "display_name": "Python 3 (ipykernel)",
   "language": "python",
   "name": "python3"
  },
  "language_info": {
   "codemirror_mode": {
    "name": "ipython",
    "version": 3
   },
   "file_extension": ".py",
   "mimetype": "text/x-python",
   "name": "python",
   "nbconvert_exporter": "python",
   "pygments_lexer": "ipython3",
   "version": "3.10.9"
  }
 },
 "nbformat": 4,
 "nbformat_minor": 5
}
