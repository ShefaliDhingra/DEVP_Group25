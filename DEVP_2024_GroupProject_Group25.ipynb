{
 "cells": [
  {
   "cell_type": "markdown",
   "id": "874b944b",
   "metadata": {},
   "source": [
    "# Data Exploration with Python using Pandas & Numpy Libraries\n",
    "---"
   ]
  },
  {
   "cell_type": "markdown",
   "id": "6dee3104",
   "metadata": {},
   "source": [
    "## Project Contents:\n",
    "\n",
    "1. Project Information\n",
    "2. Description of Data\n",
    "3. Project Objectives\n",
    "4. Data Analysis\n",
    "5. Observations / Findings\n",
    "6. Managerial Insights / Recommendations\n",
    "---"
   ]
  },
  {
   "cell_type": "markdown",
   "id": "ad643f64",
   "metadata": {},
   "source": [
    "## 1. Project Information\n",
    "* Title: Data Exploration with Python using Pandas & Numpy Libraries\n",
    "* Students : **Shefali Dhingra (055043) , Mohit Agarwal (055024)**\n",
    "* Group Number: 25\n",
    "\n",
    "---"
   ]
  },
  {
   "cell_type": "markdown",
   "id": "6d9a53fc",
   "metadata": {},
   "source": [
    "## 2. Description of Data\n",
    "\n",
    "- Data Source: [Dataset link](https://www.kaggle.com/datasets/chakilamvishwas/imports-exports-15000)"
   ]
  },
  {
   "cell_type": "markdown",
   "id": "ad87475c",
   "metadata": {},
   "source": [
    "### Data Columns Description:\n",
    "\n",
    "1. Transaction_ID: Unique identifier for each trade transaction.\n",
    "2. Country: Country of origin or destination for the trade.\n",
    "3. Product: Product being traded.\n",
    "4. Import_Export: Indicates whether the transaction is an import or export.\n",
    "5. Quantity: Amount of the product traded.\n",
    "6. Value: Monetary value of the product in USD.\n",
    "7. Date: Date of the transaction.\n",
    "8. Category: Category of the product (e.g., Electronics, Clothing, Machinery).\n",
    "9. Port: Port of entry or departure.\n",
    "10. Customs_Code: Customs or HS code for product classification.\n",
    "11. Weight: Weight of the product in kilograms.\n",
    "12. Shipping_Method: Method used for shipping (e.g., Air, Sea, Land).\n",
    "13. Supplier: Name of the supplier or manufacturer.\n",
    "14. Customer: Name of the customer or recipient.\n",
    "15. Invoice_Number: Unique invoice number for the transaction.\n",
    "16. Payment_Terms: Terms of payment (e.g., Net 30, Net 60, Cash on Delivery)."
   ]
  },
  {
   "cell_type": "markdown",
   "id": "1ee00fb5",
   "metadata": {},
   "source": [
    "Data Type: Since the dataset contains multiple entities (countries) and records data over time, this is an example of **Panel Data** (also called longitudinal data)"
   ]
  },
  {
   "cell_type": "code",
   "execution_count": 45,
   "id": "4c39185c-d9a6-45a5-8cd1-216eeb1d0a17",
   "metadata": {},
   "outputs": [],
   "source": [
    "# Import Relevant Python Libraries\n",
    "\n",
    "import pandas as pd\n",
    "import numpy as np"
   ]
  },
  {
   "cell_type": "code",
   "execution_count": 47,
   "id": "972920c5-14c4-46dd-b7db-aaae54cfa8ad",
   "metadata": {},
   "outputs": [],
   "source": [
    "# Load the Test Data\n",
    "\n",
    "my_df = pd.read_csv(\"Imports_Exports_Dataset.csv\",index_col=\"Transaction_ID\")"
   ]
  },
  {
   "cell_type": "code",
   "execution_count": 39,
   "id": "a22a5c30-8f8b-4e64-a996-26349461515c",
   "metadata": {},
   "outputs": [
    {
     "name": "stdout",
     "output_type": "stream",
     "text": [
      "The dimensions of the data is:  (15000, 15)\n"
     ]
    }
   ],
   "source": [
    "# Data Dimensions\n",
    "print(\"The dimensions of the data is: \",my_df.shape)"
   ]
  },
  {
   "cell_type": "code",
   "execution_count": 41,
   "id": "8e8b066a-e9b9-4d3c-8728-cadc54135271",
   "metadata": {
    "scrolled": true
   },
   "outputs": [
    {
     "name": "stdout",
     "output_type": "stream",
     "text": [
      "<class 'pandas.core.frame.DataFrame'>\n",
      "Index: 15000 entries, e3e70682-c209-4cac-a29f-6fbed82c07cd to 5cc039d0-a052-41fd-bfbb-c9f60c4565ac\n",
      "Data columns (total 15 columns):\n",
      " #   Column           Non-Null Count  Dtype  \n",
      "---  ------           --------------  -----  \n",
      " 0   Country          15000 non-null  object \n",
      " 1   Product          15000 non-null  object \n",
      " 2   Import_Export    15000 non-null  object \n",
      " 3   Quantity         15000 non-null  int64  \n",
      " 4   Value            15000 non-null  float64\n",
      " 5   Date             15000 non-null  object \n",
      " 6   Category         15000 non-null  object \n",
      " 7   Port             15000 non-null  object \n",
      " 8   Customs_Code     15000 non-null  int64  \n",
      " 9   Weight           15000 non-null  float64\n",
      " 10  Shipping_Method  15000 non-null  object \n",
      " 11  Supplier         15000 non-null  object \n",
      " 12  Customer         15000 non-null  object \n",
      " 13  Invoice_Number   15000 non-null  int64  \n",
      " 14  Payment_Terms    15000 non-null  object \n",
      "dtypes: float64(2), int64(3), object(10)\n",
      "memory usage: 1.8+ MB\n"
     ]
    }
   ],
   "source": [
    "# Data Variable Type\n",
    "my_df.info()"
   ]
  },
  {
   "cell_type": "markdown",
   "id": "68ba4477",
   "metadata": {},
   "source": [
    "### Data Variable Type\n",
    "As observed, the dataset contains:\n",
    "1. **All** non-null Variables\n",
    "2. Numbers:\n",
    "    1. Interger Variables: **3**  (*Quantity, Customs_Code, Invoice_Number*)\n",
    "    2. Float (Decimal) Variables: **2**  (*Value, Weight*)\n",
    "3. Text: **9**  (*Country, Product, Import_Export, Category, Port, Shipping_Method, Supplier, Customer, Payment_Terms*)\n",
    "4. DateTime: **1**   (*Date*)"
   ]
  },
  {
   "cell_type": "markdown",
   "id": "e9a632f6",
   "metadata": {},
   "source": [
    "### Data Variable Category"
   ]
  },
  {
   "cell_type": "code",
   "execution_count": 48,
   "id": "1815ea8d-933e-40fe-ae10-470221ba8e53",
   "metadata": {},
   "outputs": [],
   "source": [
    "# Bifurcating the Variables into Index, Categorical (Nominal, Ordinal) and Non-Categorical Variables\n",
    "\n",
    "Index_variables=['Transaction_ID']\n",
    "Nominal_Variables=[ 'Country','Product','Import/Export','Category','Port','Shipping Method','Supplier','Customer']\n",
    "Ordinal_variables=['Payment Terms']\n",
    "Non_Categorical_Variables=['Quantity','Value','Date','Customs Code','Weight','Invoice Number']"
   ]
  },
  {
   "cell_type": "markdown",
   "id": "cc9e4fd5",
   "metadata": {},
   "source": [
    "---"
   ]
  },
  {
   "cell_type": "markdown",
   "id": "eaefe8bc",
   "metadata": {},
   "source": [
    "## Project Objectives: Trade Analysis\n",
    "\n",
    "The objective of this project is to analyze **international trade patterns by identifying key trends in imports and exports across countries, products, and time periods.**\n",
    "The study aims to **uncover trade flow dynamics, assess the most frequently traded goods, and highlight seasonal or regional variations, providing actionable insights into global trade behaviors.**\n",
    "\n",
    "---"
   ]
  },
  {
   "cell_type": "code",
   "execution_count": 14,
   "id": "bbf458c9-1216-4214-8836-2ec3babfcd9d",
   "metadata": {},
   "outputs": [],
   "source": [
    "# A3. Create an Unique Sample of 2001 Records \n",
    "my_sample = pd.DataFrame.sample(my_df, n=2001, random_state=55043,ignore_index=True)"
   ]
  },
  {
   "cell_type": "code",
   "execution_count": 15,
   "id": "581e7f2f-1d74-4074-b376-ffc93f549f40",
   "metadata": {},
   "outputs": [
    {
     "data": {
      "text/plain": [
       "(2001, 16)"
      ]
     },
     "execution_count": 15,
     "metadata": {},
     "output_type": "execute_result"
    }
   ],
   "source": [
    "# A4. Display the Dimensions of Sample Data.\n",
    "my_sample.shape"
   ]
  },
  {
   "cell_type": "code",
   "execution_count": 17,
   "id": "b6a458e0-e52f-4e35-aa53-9b0c53c7b39a",
   "metadata": {},
   "outputs": [
    {
     "data": {
      "text/html": [
       "<div>\n",
       "<style scoped>\n",
       "    .dataframe tbody tr th:only-of-type {\n",
       "        vertical-align: middle;\n",
       "    }\n",
       "\n",
       "    .dataframe tbody tr th {\n",
       "        vertical-align: top;\n",
       "    }\n",
       "\n",
       "    .dataframe thead th {\n",
       "        text-align: right;\n",
       "    }\n",
       "</style>\n",
       "<table border=\"1\" class=\"dataframe\">\n",
       "  <thead>\n",
       "    <tr style=\"text-align: right;\">\n",
       "      <th></th>\n",
       "      <th>Transaction_ID</th>\n",
       "      <th>Country</th>\n",
       "      <th>Product</th>\n",
       "      <th>Import_Export</th>\n",
       "      <th>Quantity</th>\n",
       "      <th>Value</th>\n",
       "      <th>Date</th>\n",
       "      <th>Category</th>\n",
       "      <th>Port</th>\n",
       "      <th>Customs_Code</th>\n",
       "      <th>Weight</th>\n",
       "      <th>Shipping_Method</th>\n",
       "      <th>Supplier</th>\n",
       "      <th>Customer</th>\n",
       "      <th>Invoice_Number</th>\n",
       "      <th>Payment_Terms</th>\n",
       "    </tr>\n",
       "  </thead>\n",
       "  <tbody>\n",
       "    <tr>\n",
       "      <th>0</th>\n",
       "      <td>0e4bbca8-986c-4bc7-ab91-5f36014340b1</td>\n",
       "      <td>Jordan</td>\n",
       "      <td>station</td>\n",
       "      <td>Import</td>\n",
       "      <td>3587</td>\n",
       "      <td>4880.35</td>\n",
       "      <td>09-04-2022</td>\n",
       "      <td>Furniture</td>\n",
       "      <td>Paulland</td>\n",
       "      <td>143626</td>\n",
       "      <td>2920.10</td>\n",
       "      <td>Land</td>\n",
       "      <td>Cross, Vargas and Brown</td>\n",
       "      <td>Sylvia Jenkins</td>\n",
       "      <td>43155550</td>\n",
       "      <td>Prepaid</td>\n",
       "    </tr>\n",
       "    <tr>\n",
       "      <th>1</th>\n",
       "      <td>57647dd7-9194-4745-9b93-822bcec854aa</td>\n",
       "      <td>Ethiopia</td>\n",
       "      <td>whatever</td>\n",
       "      <td>Export</td>\n",
       "      <td>5297</td>\n",
       "      <td>4322.95</td>\n",
       "      <td>22-04-2020</td>\n",
       "      <td>Electronics</td>\n",
       "      <td>West Pamela</td>\n",
       "      <td>588424</td>\n",
       "      <td>2116.66</td>\n",
       "      <td>Land</td>\n",
       "      <td>Cruz-Beard</td>\n",
       "      <td>Shannon Cooper</td>\n",
       "      <td>2187604</td>\n",
       "      <td>Net 30</td>\n",
       "    </tr>\n",
       "    <tr>\n",
       "      <th>2</th>\n",
       "      <td>88229f9e-6b3c-45fb-ab94-a0c52a483c47</td>\n",
       "      <td>Suriname</td>\n",
       "      <td>per</td>\n",
       "      <td>Import</td>\n",
       "      <td>7937</td>\n",
       "      <td>1913.46</td>\n",
       "      <td>22-12-2020</td>\n",
       "      <td>Electronics</td>\n",
       "      <td>North Madisonborough</td>\n",
       "      <td>530712</td>\n",
       "      <td>3118.50</td>\n",
       "      <td>Land</td>\n",
       "      <td>Cowan, Hoffman and Yu</td>\n",
       "      <td>Andrea Bray</td>\n",
       "      <td>45149516</td>\n",
       "      <td>Net 60</td>\n",
       "    </tr>\n",
       "  </tbody>\n",
       "</table>\n",
       "</div>"
      ],
      "text/plain": [
       "                         Transaction_ID   Country   Product Import_Export  \\\n",
       "0  0e4bbca8-986c-4bc7-ab91-5f36014340b1    Jordan   station        Import   \n",
       "1  57647dd7-9194-4745-9b93-822bcec854aa  Ethiopia  whatever        Export   \n",
       "2  88229f9e-6b3c-45fb-ab94-a0c52a483c47  Suriname       per        Import   \n",
       "\n",
       "   Quantity    Value        Date     Category                  Port  \\\n",
       "0      3587  4880.35  09-04-2022    Furniture              Paulland   \n",
       "1      5297  4322.95  22-04-2020  Electronics           West Pamela   \n",
       "2      7937  1913.46  22-12-2020  Electronics  North Madisonborough   \n",
       "\n",
       "   Customs_Code   Weight Shipping_Method                 Supplier  \\\n",
       "0        143626  2920.10            Land  Cross, Vargas and Brown   \n",
       "1        588424  2116.66            Land               Cruz-Beard   \n",
       "2        530712  3118.50            Land    Cowan, Hoffman and Yu   \n",
       "\n",
       "         Customer  Invoice_Number Payment_Terms  \n",
       "0  Sylvia Jenkins        43155550       Prepaid  \n",
       "1  Shannon Cooper         2187604        Net 30  \n",
       "2     Andrea Bray        45149516        Net 60  "
      ]
     },
     "execution_count": 17,
     "metadata": {},
     "output_type": "execute_result"
    }
   ],
   "source": [
    "# A6. Display the First 03 Records of the Sample Data.\n",
    "my_sample.head(3)"
   ]
  },
  {
   "cell_type": "code",
   "execution_count": 19,
   "id": "255a5370-ba06-4277-a3c2-5b7f066497e7",
   "metadata": {},
   "outputs": [
    {
     "name": "stdout",
     "output_type": "stream",
     "text": [
      "the Vriables are: ['Transaction_ID', 'Country', 'Product', 'Import_Export', 'Quantity', 'Value', 'Date', 'Category', 'Port', 'Customs_Code', 'Weight', 'Shipping_Method', 'Supplier', 'Customer', 'Invoice_Number', 'Payment_Terms']\n"
     ]
    }
   ],
   "source": [
    "# B1. Display the List of Names of the Variables.\n",
    "variables=list(my_sample.columns)\n",
    "print(\"the Vriables are:\", variables)"
   ]
  },
  {
   "cell_type": "code",
   "execution_count": null,
   "id": "d1f309ae",
   "metadata": {},
   "outputs": [],
   "source": []
  }
 ],
 "metadata": {
  "kernelspec": {
   "display_name": "Python 3 (ipykernel)",
   "language": "python",
   "name": "python3"
  },
  "language_info": {
   "codemirror_mode": {
    "name": "ipython",
    "version": 3
   },
   "file_extension": ".py",
   "mimetype": "text/x-python",
   "name": "python",
   "nbconvert_exporter": "python",
   "pygments_lexer": "ipython3",
   "version": "3.10.9"
  }
 },
 "nbformat": 4,
 "nbformat_minor": 5
}
